{
 "cells": [
  {
   "cell_type": "markdown",
   "metadata": {},
   "source": [
    "## 데이터 확인"
   ]
  },
  {
   "cell_type": "code",
   "execution_count": 1,
   "metadata": {
    "scrolled": true
   },
   "outputs": [],
   "source": [
    "import pandas as pd\n",
    "import openpyxl\n",
    "import os\n",
    "\n",
    "activecop = pd.read_excel(\"C:\\\\Users\\\\Yeji\\\\Desktop\\\\취준\\\\넘블챌린지\\\\넘블 챌린지 데이터\\\\액티브 중소법인 재무보유.xlsx\")\n",
    "closecop = pd.read_excel(\"C:\\\\Users\\\\Yeji\\\\Desktop\\\\취준\\\\넘블챌린지\\\\넘블 챌린지 데이터\\\\휴폐업 중소법인 재무보유.xlsx\")\n",
    "\n",
    "#activecop.head()\n",
    "#closecop.head()"
   ]
  },
  {
   "cell_type": "code",
   "execution_count": 2,
   "metadata": {
    "scrolled": true
   },
   "outputs": [],
   "source": [
    "import pandas as pd\n",
    "finance = pd.read_csv(\"C:\\\\Users\\\\Yeji\\\\Desktop\\\\취준\\\\넘블챌린지\\\\넘블 챌린지 데이터\\\\재무데이터_피처생성추가_결측치제거.csv\")\n",
    "#finance.head()"
   ]
  },
  {
   "cell_type": "code",
   "execution_count": 48,
   "metadata": {
    "scrolled": true
   },
   "outputs": [
    {
     "name": "stdout",
     "output_type": "stream",
     "text": [
      "(28982, 28)\n",
      "(6739, 28)\n",
      "(109142, 76)\n"
     ]
    }
   ],
   "source": [
    "print(activecop.shape)\n",
    "print(closecop.shape)\n",
    "print(finance.shape)"
   ]
  },
  {
   "cell_type": "code",
   "execution_count": 52,
   "metadata": {},
   "outputs": [
    {
     "data": {
      "text/plain": [
       "BIZ_NO                 0\n",
       "CMP_PFIX_NM        10402\n",
       "CMP_NM1                0\n",
       "CMP_SFIX_NM        19813\n",
       "CMP_ENM               17\n",
       "BZ_TYP                 0\n",
       "CMP_SCL                0\n",
       "PBCO_GB                0\n",
       "PSN_CORP_GB            0\n",
       "HDOF_BR_GB             0\n",
       "FR_IVST_CORP_YN        0\n",
       "VENT_YN                0\n",
       "LIST_CD            28893\n",
       "IND_CD_ORDR           10\n",
       "IND_CD1               11\n",
       "IND_CD2            27782\n",
       "IND_CD3            28719\n",
       "PB_ORG_TYP             0\n",
       "MDSCO_PRTC_YN          0\n",
       "HDOF_CMP_CD        26075\n",
       "ESTB_DATE           1074\n",
       "ESTB_GB                0\n",
       "LIST_DATE          28823\n",
       "MN_BIZ_CONT          163\n",
       "NATN_NM            27337\n",
       "HOMEPAGE_URL       11228\n",
       "CEO_NM                 1\n",
       "EMP_CNT              734\n",
       "dtype: int64"
      ]
     },
     "execution_count": 52,
     "metadata": {},
     "output_type": "execute_result"
    }
   ],
   "source": [
    "# null값 확인\n",
    "activecop.isnull().sum()"
   ]
  },
  {
   "cell_type": "code",
   "execution_count": 53,
   "metadata": {},
   "outputs": [
    {
     "data": {
      "text/plain": [
       "BIZ_NO                0\n",
       "CMP_PFIX_NM        1894\n",
       "CMP_NM                0\n",
       "CMP_SFIX_NM        5453\n",
       "CMP_ENM              44\n",
       "BZ_TYP                0\n",
       "CMP_SCL               0\n",
       "PBCO_GB               0\n",
       "PSN_CORP_GB           0\n",
       "HDOF_BR_GB            0\n",
       "FR_IVST_CORP_YN       0\n",
       "VENT_YN               0\n",
       "LIST_CD            6693\n",
       "IND_CD_ORDR           5\n",
       "IND_CD1             150\n",
       "IND_CD2            6656\n",
       "IND_CD3            6728\n",
       "PB_ORG_TYP            0\n",
       "MDSCO_PRTC_YN         0\n",
       "HDOF_CMP_CD        5288\n",
       "ESTB_DATE           565\n",
       "ESTB_GB               0\n",
       "LIST_DATE          6690\n",
       "MN_BIZ_CONT         168\n",
       "NATN_NM            6595\n",
       "HOMEPAGE_URL       4614\n",
       "CEO_NM                1\n",
       "EMP_CNT             688\n",
       "dtype: int64"
      ]
     },
     "execution_count": 53,
     "metadata": {},
     "output_type": "execute_result"
    }
   ],
   "source": [
    "# null값 확인\n",
    "closecop.isnull().sum()"
   ]
  },
  {
   "cell_type": "code",
   "execution_count": 54,
   "metadata": {
    "scrolled": true
   },
   "outputs": [
    {
     "data": {
      "text/plain": [
       "주택건설업              242\n",
       "부동산 임대업            229\n",
       "부동산 개발업            208\n",
       "건축공사업              154\n",
       "자동차부품 제조업          151\n",
       "                  ... \n",
       "세라믹 제조업              1\n",
       "주택 건설 및 분양업          1\n",
       "섬유무역업                1\n",
       "벽돌, 블럭, 맨홀 외         1\n",
       "핸드백, 지갑, 벨트, 가방      1\n",
       "Name: MN_BIZ_CONT, Length: 20005, dtype: int64"
      ]
     },
     "execution_count": 54,
     "metadata": {},
     "output_type": "execute_result"
    }
   ],
   "source": [
    "activecop['MN_BIZ_CONT'].value_counts()"
   ]
  },
  {
   "cell_type": "markdown",
   "metadata": {},
   "source": [
    "## 데이터 병합"
   ]
  },
  {
   "cell_type": "code",
   "execution_count": 3,
   "metadata": {
    "scrolled": true
   },
   "outputs": [
    {
     "name": "stdout",
     "output_type": "stream",
     "text": [
      "(35721, 29)\n"
     ]
    }
   ],
   "source": [
    "#기업 개요 병합\n",
    "\n",
    "cop = pd.concat([closecop, activecop])\n",
    "print(cop.shape)\n",
    "#print(cop.head())"
   ]
  },
  {
   "cell_type": "code",
   "execution_count": 4,
   "metadata": {},
   "outputs": [],
   "source": [
    "#기업 개요 필요한 데이터만\n",
    "\n",
    "cop = cop[['BIZ_NO', 'CMP_SCL', 'ESTB_DATE', 'LIST_DATE']]\n",
    "#cop.head()"
   ]
  },
  {
   "cell_type": "code",
   "execution_count": 6,
   "metadata": {},
   "outputs": [
    {
     "data": {
      "text/plain": [
       "BIZ_NO               int64\n",
       "기업명                 object\n",
       "종업원 수              float64\n",
       "label                int64\n",
       "결산년월                 int64\n",
       "                    ...   \n",
       "총자본순이익률(%)         float64\n",
       "총자본영업이익률(%)        float64\n",
       "총자본증가율(%)          float64\n",
       "비유동비율(%)           float64\n",
       "이익잉여금대유동자산비율(%)    float64\n",
       "Length: 76, dtype: object"
      ]
     },
     "execution_count": 6,
     "metadata": {},
     "output_type": "execute_result"
    }
   ],
   "source": [
    "finance.rename(columns={'사업자번호':'BIZ_NO'}, inplace=True)\n",
    "finance.dtypes"
   ]
  },
  {
   "cell_type": "code",
   "execution_count": 58,
   "metadata": {},
   "outputs": [
    {
     "data": {
      "text/plain": [
       "BIZ_NO                 0\n",
       "기업명                    0\n",
       "종업원 수                853\n",
       "label                  0\n",
       "결산년월                   0\n",
       "                   ...  \n",
       "총자본순이익률(%)         36441\n",
       "총자본영업이익률(%)        36459\n",
       "총자본증가율(%)          36318\n",
       "비유동비율(%)            2049\n",
       "이익잉여금대유동자산비율(%)     1291\n",
       "Length: 76, dtype: int64"
      ]
     },
     "execution_count": 58,
     "metadata": {},
     "output_type": "execute_result"
    }
   ],
   "source": [
    "finance.isnull().sum()"
   ]
  },
  {
   "cell_type": "code",
   "execution_count": 7,
   "metadata": {
    "scrolled": true
   },
   "outputs": [
    {
     "name": "stdout",
     "output_type": "stream",
     "text": [
      "(109142, 79)\n"
     ]
    }
   ],
   "source": [
    "allcop = pd.merge(cop, finance, on='BIZ_NO', how='inner')\n",
    "print(allcop.shape)\n",
    "#allcop.head()"
   ]
  },
  {
   "cell_type": "markdown",
   "metadata": {},
   "source": [
    "## 칼럼 정리"
   ]
  },
  {
   "cell_type": "code",
   "execution_count": 8,
   "metadata": {
    "scrolled": true
   },
   "outputs": [
    {
     "name": "stdout",
     "output_type": "stream",
     "text": [
      "(109142, 78)\n"
     ]
    }
   ],
   "source": [
    "# 기업명 삭제\n",
    "\n",
    "allcop.drop('기업명', axis=1, inplace=True)\n",
    "print(allcop.shape)\n",
    "#allcop.head()"
   ]
  },
  {
   "cell_type": "code",
   "execution_count": 61,
   "metadata": {
    "scrolled": true
   },
   "outputs": [
    {
     "name": "stdout",
     "output_type": "stream",
     "text": [
      "<class 'pandas.core.frame.DataFrame'>\n",
      "Int64Index: 109142 entries, 0 to 109141\n",
      "Data columns (total 78 columns):\n",
      " #   Column           Non-Null Count   Dtype  \n",
      "---  ------           --------------   -----  \n",
      " 0   BIZ_NO           109142 non-null  int64  \n",
      " 1   CMP_SCL          109142 non-null  int64  \n",
      " 2   ESTB_DATE        107167 non-null  float64\n",
      " 3   LIST_DATE        717 non-null     float64\n",
      " 4   종업원 수            108289 non-null  float64\n",
      " 5   label            109142 non-null  int64  \n",
      " 6   결산년월             109142 non-null  int64  \n",
      " 7   유동자산             108143 non-null  float64\n",
      " 8   매출채권             91132 non-null   float64\n",
      " 9   비유동자산            107117 non-null  float64\n",
      " 10  유형자산             101898 non-null  float64\n",
      " 11  자산총계             108153 non-null  float64\n",
      " 12  유동부채             107998 non-null  float64\n",
      " 13  비유동부채            97882 non-null   float64\n",
      " 14  부  채  총  계       108072 non-null  float64\n",
      " 15  자본금              108113 non-null  float64\n",
      " 16  이익잉여금(결손금）       107869 non-null  float64\n",
      " 17  자본총계             108145 non-null  float64\n",
      " 18  매출액              103734 non-null  float64\n",
      " 19  판매비와관리비          107767 non-null  float64\n",
      " 20  영업이익（손실）         108046 non-null  float64\n",
      " 21  법인세비용차감전순손익      107862 non-null  float64\n",
      " 22  법인세비용            73458 non-null   float64\n",
      " 23  당기순이익(손실)        108093 non-null  float64\n",
      " 24  기업순이익률(%)        100936 non-null  float64\n",
      " 25  유보액/총자산(%)       107839 non-null  float64\n",
      " 26  유보액/납입자본(%)      107800 non-null  float64\n",
      " 27  매출액총이익률(%)       103527 non-null  float64\n",
      " 28  매출액영업이익률(%)      103535 non-null  float64\n",
      " 29  매출액순이익률(%)       103526 non-null  float64\n",
      " 30  수지비율(%)          107870 non-null  float64\n",
      " 31  경상수지비율           73212 non-null   float64\n",
      " 32  영업비율(%)          103299 non-null  float64\n",
      " 33  금융비용대매출액비율(%)    92133 non-null   float64\n",
      " 34  금융비용대부채비율(%)     103098 non-null  float64\n",
      " 35  금융비용대총비용비율(%)    95452 non-null   float64\n",
      " 36  부채비율(%)          97264 non-null   float64\n",
      " 37  차입금의존도(%)        96306 non-null   float64\n",
      " 38  자기자본비율(%)        88393 non-null   float64\n",
      " 39  순운전자본비율(%)       108168 non-null  float64\n",
      " 40  유동부채비율(%)        88306 non-null   float64\n",
      " 41  비유동부채비율(%)       80495 non-null   float64\n",
      " 42  부채총계대 매출액(%)     105633 non-null  float64\n",
      " 43  총자본회전율(회)        100402 non-null  float64\n",
      " 44  재고자산회전율(회)       74587 non-null   float64\n",
      " 45  매출채권회전율(회)       88209 non-null   float64\n",
      " 46  매입채무회전율(회)       77219 non-null   float64\n",
      " 47  미수금              81594 non-null   float64\n",
      " 48  매출원가             91373 non-null   float64\n",
      " 49  무형자산             55293 non-null   float64\n",
      " 50  재고자산             79776 non-null   float64\n",
      " 51  매출액증가율(%)        69712 non-null   float64\n",
      " 52  영업이익증가율(%)       72747 non-null   float64\n",
      " 53  총자산증가율(%)        72822 non-null   float64\n",
      " 54  당기순이익률(%)        103610 non-null  float64\n",
      " 55  ROE(%)           108087 non-null  float64\n",
      " 56  ROA(%)           108090 non-null  float64\n",
      " 57  유형자산증가율(%)       68777 non-null   float64\n",
      " 58  이자비용             92133 non-null   float64\n",
      " 59  총자산회전율(회)        103732 non-null  float64\n",
      " 60  영업이익률(%)         103592 non-null  float64\n",
      " 61  유동비율(%)          107985 non-null  float64\n",
      " 62  유동부채대총자산(%)      107991 non-null  float64\n",
      " 63  유동자산대총자산(%)      108142 non-null  float64\n",
      " 64  이익잉여금대총자산(%)     107859 non-null  float64\n",
      " 65  영업이익대총자산비율(%)    108034 non-null  float64\n",
      " 66  총부채대총자산비율(%)     108065 non-null  float64\n",
      " 67  이자보상비율(%)        90921 non-null   float64\n",
      " 68  판매비와관리비 / 종업원수   103962 non-null  float64\n",
      " 69  영업이익 / 종업원수      105216 non-null  float64\n",
      " 70  자본금 / 종업원수       105216 non-null  float64\n",
      " 71  당기순이익 / 종업원수     105216 non-null  float64\n",
      " 72  영업이익대비이자보상비율(%)  90921 non-null   float64\n",
      " 73  총자본순이익률(%)       72701 non-null   float64\n",
      " 74  총자본영업이익률(%)      72683 non-null   float64\n",
      " 75  총자본증가율(%)        72824 non-null   float64\n",
      " 76  비유동비율(%)         107093 non-null  float64\n",
      " 77  이익잉여금대유동자산비율(%)  107851 non-null  float64\n",
      "dtypes: float64(74), int64(4)\n",
      "memory usage: 65.8 MB\n"
     ]
    }
   ],
   "source": [
    "allcop.info()"
   ]
  },
  {
   "cell_type": "code",
   "execution_count": 62,
   "metadata": {},
   "outputs": [
    {
     "data": {
      "text/plain": [
       "2    109142\n",
       "Name: CMP_SCL, dtype: int64"
      ]
     },
     "execution_count": 62,
     "metadata": {},
     "output_type": "execute_result"
    }
   ],
   "source": [
    "allcop['CMP_SCL'].value_counts()"
   ]
  },
  {
   "cell_type": "code",
   "execution_count": 9,
   "metadata": {},
   "outputs": [
    {
     "name": "stdout",
     "output_type": "stream",
     "text": [
      "(109142, 77)\n"
     ]
    }
   ],
   "source": [
    "# 기업 규모 삭제\n",
    "\n",
    "allcop.drop('CMP_SCL', axis=1, inplace=True)\n",
    "print(allcop.shape)\n",
    "#allcop.head()"
   ]
  },
  {
   "cell_type": "code",
   "execution_count": 65,
   "metadata": {},
   "outputs": [
    {
     "name": "stderr",
     "output_type": "stream",
     "text": [
      "<ipython-input-65-9a77b39548b4>:16: SettingWithCopyWarning: \n",
      "A value is trying to be set on a copy of a slice from a DataFrame\n",
      "\n",
      "See the caveats in the documentation: https://pandas.pydata.org/pandas-docs/stable/user_guide/indexing.html#returning-a-view-versus-a-copy\n",
      "  temp['year'][i] = temp['ESTB_DATE'][i][:4]\n",
      "<ipython-input-65-9a77b39548b4>:17: SettingWithCopyWarning: \n",
      "A value is trying to be set on a copy of a slice from a DataFrame\n",
      "\n",
      "See the caveats in the documentation: https://pandas.pydata.org/pandas-docs/stable/user_guide/indexing.html#returning-a-view-versus-a-copy\n",
      "  temp['month'][i] = temp['ESTB_DATE'][i][4:6]\n"
     ]
    }
   ],
   "source": [
    "# 설립일자 업력으로 변경\n",
    "\n",
    "from datetime import datetime\n",
    "\n",
    "temp = allcop['ESTB_DATE'].dropna()\n",
    "\n",
    "temp= temp.astype(int)\n",
    "temp= temp.astype(str)\n",
    "temp=pd.DataFrame(temp)\n",
    "temp.reset_index(inplace=True)\n",
    "\n",
    "temp['year'] = [0]*len(temp['ESTB_DATE'])\n",
    "temp['month'] = [0]*len(temp['ESTB_DATE'])\n",
    "\n",
    "for i in range(len(temp['ESTB_DATE'])):\n",
    "    temp['year'][i] = temp['ESTB_DATE'][i][:4]\n",
    "    temp['month'][i] = temp['ESTB_DATE'][i][4:6]"
   ]
  },
  {
   "cell_type": "code",
   "execution_count": 66,
   "metadata": {},
   "outputs": [
    {
     "name": "stderr",
     "output_type": "stream",
     "text": [
      "<ipython-input-66-ea0eeb6f190f>:5: SettingWithCopyWarning: \n",
      "A value is trying to be set on a copy of a slice from a DataFrame\n",
      "\n",
      "See the caveats in the documentation: https://pandas.pydata.org/pandas-docs/stable/user_guide/indexing.html#returning-a-view-versus-a-copy\n",
      "  temp['history'][i]=(2022-int(temp['year'][i]))*12+10-int(temp['month'][i])\n",
      "<ipython-input-66-ea0eeb6f190f>:7: SettingWithCopyWarning: \n",
      "A value is trying to be set on a copy of a slice from a DataFrame\n",
      "\n",
      "See the caveats in the documentation: https://pandas.pydata.org/pandas-docs/stable/user_guide/indexing.html#returning-a-view-versus-a-copy\n",
      "  temp['history'][i]=(2022-int(temp['year'][i])-1)*12+12-int(temp['month'][i]-10)\n"
     ]
    },
    {
     "name": "stdout",
     "output_type": "stream",
     "text": [
      "0         269.0\n",
      "1         269.0\n",
      "2         269.0\n",
      "3         269.0\n",
      "4         453.0\n",
      "          ...  \n",
      "109137      4.0\n",
      "109138      4.0\n",
      "109139     10.0\n",
      "109140     10.0\n",
      "109141     10.0\n",
      "Name: ESTB_DATE, Length: 109142, dtype: float64\n"
     ]
    }
   ],
   "source": [
    "temp['history']=[0]*len(temp['ESTB_DATE'])\n",
    "\n",
    "for i in range(len(temp['ESTB_DATE'])):\n",
    "    if int(temp['month'][i]) <=10:\n",
    "        temp['history'][i]=(2022-int(temp['year'][i]))*12+10-int(temp['month'][i])\n",
    "    else:\n",
    "        temp['history'][i]=(2022-int(temp['year'][i])-1)*12+12-int(temp['month'][i]-10)\n",
    "\n",
    "temp.index = temp['index']\n",
    "allcop['ESTB_DATE'] = temp['history']\n",
    "print(allcop['ESTB_DATE'])"
   ]
  },
  {
   "cell_type": "code",
   "execution_count": 67,
   "metadata": {},
   "outputs": [
    {
     "name": "stdout",
     "output_type": "stream",
     "text": [
      "0        NaN\n",
      "1        NaN\n",
      "2        NaN\n",
      "3        NaN\n",
      "4        NaN\n",
      "          ..\n",
      "109137   NaN\n",
      "109138   NaN\n",
      "109139   NaN\n",
      "109140   NaN\n",
      "109141   NaN\n",
      "Name: LIST_DATE, Length: 109142, dtype: float64\n"
     ]
    },
    {
     "name": "stderr",
     "output_type": "stream",
     "text": [
      "<ipython-input-67-19633ee754cc>:13: SettingWithCopyWarning: \n",
      "A value is trying to be set on a copy of a slice from a DataFrame\n",
      "\n",
      "See the caveats in the documentation: https://pandas.pydata.org/pandas-docs/stable/user_guide/indexing.html#returning-a-view-versus-a-copy\n",
      "  temp_list['year'][i] = temp_list['LIST_DATE'][i][:4]\n",
      "<ipython-input-67-19633ee754cc>:14: SettingWithCopyWarning: \n",
      "A value is trying to be set on a copy of a slice from a DataFrame\n",
      "\n",
      "See the caveats in the documentation: https://pandas.pydata.org/pandas-docs/stable/user_guide/indexing.html#returning-a-view-versus-a-copy\n",
      "  temp_list['month'][i] = temp_list['LIST_DATE'][i][4:6]\n",
      "<ipython-input-67-19633ee754cc>:20: SettingWithCopyWarning: \n",
      "A value is trying to be set on a copy of a slice from a DataFrame\n",
      "\n",
      "See the caveats in the documentation: https://pandas.pydata.org/pandas-docs/stable/user_guide/indexing.html#returning-a-view-versus-a-copy\n",
      "  temp_list['history'][i]=(2022-int(temp_list['year'][i]))*12+10-int(temp_list['month'][i])\n",
      "<ipython-input-67-19633ee754cc>:22: SettingWithCopyWarning: \n",
      "A value is trying to be set on a copy of a slice from a DataFrame\n",
      "\n",
      "See the caveats in the documentation: https://pandas.pydata.org/pandas-docs/stable/user_guide/indexing.html#returning-a-view-versus-a-copy\n",
      "  temp_list['history'][i]=(2022-int(temp_list['year'][i])-1)*12+12-int(temp_list['month'][i]-10)\n"
     ]
    }
   ],
   "source": [
    "# 상장일자를 기준일자로부터 경과수로 변경\n",
    "temp_list = allcop['LIST_DATE'].dropna()\n",
    "\n",
    "temp_list = temp_list.astype(int)\n",
    "temp_list = temp_list.astype(str)\n",
    "temp_list = pd.DataFrame(temp_list)\n",
    "temp_list.reset_index(inplace=True)\n",
    "\n",
    "temp_list['year'] = [0]*len(temp_list['LIST_DATE'])\n",
    "temp_list['month'] = [0]*len(temp_list['LIST_DATE'])\n",
    "\n",
    "for i in range(len(temp_list['LIST_DATE'])):\n",
    "    temp_list['year'][i] = temp_list['LIST_DATE'][i][:4]\n",
    "    temp_list['month'][i] = temp_list['LIST_DATE'][i][4:6]\n",
    "    \n",
    "temp_list['history']=[0]*len(temp_list['LIST_DATE'])\n",
    "\n",
    "for i in range(len(temp_list['LIST_DATE'])):\n",
    "    if int(temp_list['month'][i]) <=10:\n",
    "        temp_list['history'][i]=(2022-int(temp_list['year'][i]))*12+10-int(temp_list['month'][i])\n",
    "    else:\n",
    "        temp_list['history'][i]=(2022-int(temp_list['year'][i])-1)*12+12-int(temp_list['month'][i]-10)\n",
    "\n",
    "temp_list.index = temp_list['index']\n",
    "allcop['LIST_DATE'] = temp_list['history']\n",
    "print(allcop['LIST_DATE'])"
   ]
  },
  {
   "cell_type": "markdown",
   "metadata": {},
   "source": [
    "## EDA\n",
    "#### 1. 결측치 개수"
   ]
  },
  {
   "cell_type": "code",
   "execution_count": 39,
   "metadata": {
    "scrolled": true
   },
   "outputs": [
    {
     "data": {
      "text/plain": [
       "ESTB_DATE                       1975\n",
       "LIST_DATE                     108425\n",
       "employee                         853\n",
       "label                              0\n",
       "Date                               0\n",
       "                               ...  \n",
       "totalCapitalNet                36441\n",
       "totalCapitalbpro               36459\n",
       "totalCapitalGrowth             36318\n",
       "noCurrentRatio                  2049\n",
       "currentAsset/earnedSurplus      1291\n",
       "Length: 76, dtype: int64"
      ]
     },
     "execution_count": 39,
     "metadata": {},
     "output_type": "execute_result"
    }
   ],
   "source": [
    "allcop.isnull().sum()"
   ]
  },
  {
   "cell_type": "code",
   "execution_count": 40,
   "metadata": {
    "scrolled": false
   },
   "outputs": [
    {
     "data": {
      "text/plain": [
       "<AxesSubplot:>"
      ]
     },
     "execution_count": 40,
     "metadata": {},
     "output_type": "execute_result"
    },
    {
     "data": {
      "image/png": "[encoded data removed]",
      "text/plain": [
       "<Figure size 432x288 with 1 Axes>"
      ]
     },
     "metadata": {
      "needs_background": "light"
     },
     "output_type": "display_data"
    }
   ],
   "source": [
    "# 시각화\n",
    "\n",
    "import numpy as np\n",
    "import matplotlib.pyplot as plt\n",
    "import seaborn as sns\n",
    "\n",
    "%matplotlib inline\n",
    "plt.rc('font', family='Malgun Gothic')\n",
    "sns.heatmap(allcop.isnull(), cbar = False)"
   ]
  },
  {
   "cell_type": "code",
   "execution_count": 41,
   "metadata": {
    "scrolled": false
   },
   "outputs": [
    {
     "data": {
      "text/plain": [
       "<AxesSubplot:>"
      ]
     },
     "execution_count": 41,
     "metadata": {},
     "output_type": "execute_result"
    },
    {
     "data": {
      "image/png": "[encoded data removed]",
      "text/plain": [
       "<Figure size 720x1440 with 1 Axes>"
      ]
     },
     "metadata": {
      "needs_background": "light"
     },
     "output_type": "display_data"
    }
   ],
   "source": [
    "plt.rc('font', size=9) \n",
    "allcop.isnull().sum().plot.barh(figsize=(10,20),color = 'skyblue')"
   ]
  },
  {
   "cell_type": "code",
   "execution_count": 42,
   "metadata": {},
   "outputs": [
    {
     "data": {
      "text/plain": [
       "<AxesSubplot:>"
      ]
     },
     "execution_count": 42,
     "metadata": {},
     "output_type": "execute_result"
    },
    {
     "data": {
      "image/png": "[encoded data removed]",
      "text/plain": [
       "<Figure size 1440x720 with 1 Axes>"
      ]
     },
     "metadata": {
      "needs_background": "light"
     },
     "output_type": "display_data"
    }
   ],
   "source": [
    "plt.rc('font', size=9) \n",
    "allcop.isnull().sum().plot.bar(figsize=(20,10),color = 'skyblue')"
   ]
  },
  {
   "cell_type": "markdown",
   "metadata": {},
   "source": [
    "#### 2. 수치형 vs 범주형 변수"
   ]
  },
  {
   "cell_type": "code",
   "execution_count": 44,
   "metadata": {},
   "outputs": [
    {
     "data": {
      "text/plain": [
       "1    98905\n",
       "0    10237\n",
       "Name: label, dtype: int64"
      ]
     },
     "execution_count": 44,
     "metadata": {},
     "output_type": "execute_result"
    }
   ],
   "source": [
    "allcop['label'].value_counts()"
   ]
  },
  {
   "cell_type": "code",
   "execution_count": 45,
   "metadata": {
    "scrolled": true
   },
   "outputs": [
    {
     "data": {
      "text/html": [
       "<div>\n",
       "<style scoped>\n",
       "    .dataframe tbody tr th:only-of-type {\n",
       "        vertical-align: middle;\n",
       "    }\n",
       "\n",
       "    .dataframe tbody tr th {\n",
       "        vertical-align: top;\n",
       "    }\n",
       "\n",
       "    .dataframe thead th {\n",
       "        text-align: right;\n",
       "    }\n",
       "</style>\n",
       "<table border=\"1\" class=\"dataframe\">\n",
       "  <thead>\n",
       "    <tr style=\"text-align: right;\">\n",
       "      <th></th>\n",
       "      <th>ESTB_DATE</th>\n",
       "      <th>LIST_DATE</th>\n",
       "      <th>employee</th>\n",
       "      <th>label</th>\n",
       "      <th>Date</th>\n",
       "      <th>currentAsset</th>\n",
       "      <th>saleCredit</th>\n",
       "      <th>noCurrentAsset</th>\n",
       "      <th>tangibleAsset</th>\n",
       "      <th>totalAsset</th>\n",
       "      <th>...</th>\n",
       "      <th>sell/emp</th>\n",
       "      <th>bpro/emp</th>\n",
       "      <th>capital/emp</th>\n",
       "      <th>profit/emp</th>\n",
       "      <th>bprofit/ICR</th>\n",
       "      <th>totalCapitalNet</th>\n",
       "      <th>totalCapitalbpro</th>\n",
       "      <th>totalCapitalGrowth</th>\n",
       "      <th>noCurrentRatio</th>\n",
       "      <th>currentAsset/earnedSurplus</th>\n",
       "    </tr>\n",
       "  </thead>\n",
       "  <tbody>\n",
       "    <tr>\n",
       "      <th>count</th>\n",
       "      <td>107167.000000</td>\n",
       "      <td>717.000000</td>\n",
       "      <td>108289.000000</td>\n",
       "      <td>109142.000000</td>\n",
       "      <td>1.091420e+05</td>\n",
       "      <td>1.081430e+05</td>\n",
       "      <td>9.113200e+04</td>\n",
       "      <td>1.071170e+05</td>\n",
       "      <td>1.018980e+05</td>\n",
       "      <td>1.081530e+05</td>\n",
       "      <td>...</td>\n",
       "      <td>1.039620e+05</td>\n",
       "      <td>1.052160e+05</td>\n",
       "      <td>1.052160e+05</td>\n",
       "      <td>1.052160e+05</td>\n",
       "      <td>90921.000000</td>\n",
       "      <td>72701.000000</td>\n",
       "      <td>72683.000000</td>\n",
       "      <td>7.282400e+04</td>\n",
       "      <td>1.070930e+05</td>\n",
       "      <td>1.078510e+05</td>\n",
       "    </tr>\n",
       "    <tr>\n",
       "      <th>mean</th>\n",
       "      <td>219.927627</td>\n",
       "      <td>190.100418</td>\n",
       "      <td>62.426119</td>\n",
       "      <td>0.906205</td>\n",
       "      <td>2.019548e+07</td>\n",
       "      <td>1.559555e+07</td>\n",
       "      <td>4.345309e+06</td>\n",
       "      <td>2.002072e+07</td>\n",
       "      <td>1.431236e+07</td>\n",
       "      <td>3.558984e+07</td>\n",
       "      <td>...</td>\n",
       "      <td>2.575138e+05</td>\n",
       "      <td>1.145524e+05</td>\n",
       "      <td>3.627127e+05</td>\n",
       "      <td>2.723170e+04</td>\n",
       "      <td>56.487838</td>\n",
       "      <td>1.865169</td>\n",
       "      <td>3.369693</td>\n",
       "      <td>9.130668e+02</td>\n",
       "      <td>6.663594e+02</td>\n",
       "      <td>-9.765433e+01</td>\n",
       "    </tr>\n",
       "    <tr>\n",
       "      <th>std</th>\n",
       "      <td>137.038929</td>\n",
       "      <td>139.643825</td>\n",
       "      <td>160.280163</td>\n",
       "      <td>0.291545</td>\n",
       "      <td>1.137009e+04</td>\n",
       "      <td>4.427457e+07</td>\n",
       "      <td>2.230116e+07</td>\n",
       "      <td>5.802346e+07</td>\n",
       "      <td>4.736083e+07</td>\n",
       "      <td>9.544234e+07</td>\n",
       "      <td>...</td>\n",
       "      <td>1.104704e+06</td>\n",
       "      <td>2.165616e+06</td>\n",
       "      <td>3.194812e+06</td>\n",
       "      <td>2.875318e+06</td>\n",
       "      <td>1671.956858</td>\n",
       "      <td>25.694053</td>\n",
       "      <td>24.340964</td>\n",
       "      <td>1.842636e+05</td>\n",
       "      <td>1.506909e+05</td>\n",
       "      <td>4.011175e+04</td>\n",
       "    </tr>\n",
       "    <tr>\n",
       "      <th>min</th>\n",
       "      <td>3.000000</td>\n",
       "      <td>4.000000</td>\n",
       "      <td>0.000000</td>\n",
       "      <td>0.000000</td>\n",
       "      <td>2.018013e+07</td>\n",
       "      <td>-2.719290e+05</td>\n",
       "      <td>-5.421180e+05</td>\n",
       "      <td>-1.964740e+05</td>\n",
       "      <td>-4.939030e+05</td>\n",
       "      <td>-3.793700e+04</td>\n",
       "      <td>...</td>\n",
       "      <td>-5.678862e+06</td>\n",
       "      <td>-8.514408e+07</td>\n",
       "      <td>-2.886529e+04</td>\n",
       "      <td>-3.183783e+08</td>\n",
       "      <td>-294887.786000</td>\n",
       "      <td>-3266.323000</td>\n",
       "      <td>-3320.311000</td>\n",
       "      <td>-2.681187e+03</td>\n",
       "      <td>-2.694073e+07</td>\n",
       "      <td>-3.052247e+06</td>\n",
       "    </tr>\n",
       "    <tr>\n",
       "      <th>25%</th>\n",
       "      <td>112.000000</td>\n",
       "      <td>75.000000</td>\n",
       "      <td>7.000000</td>\n",
       "      <td>1.000000</td>\n",
       "      <td>2.018123e+07</td>\n",
       "      <td>3.493444e+06</td>\n",
       "      <td>6.949922e+05</td>\n",
       "      <td>3.220908e+06</td>\n",
       "      <td>1.051310e+06</td>\n",
       "      <td>1.290780e+07</td>\n",
       "      <td>...</td>\n",
       "      <td>3.532792e+04</td>\n",
       "      <td>-1.369859e+03</td>\n",
       "      <td>7.304598e+03</td>\n",
       "      <td>-5.456093e+03</td>\n",
       "      <td>0.130000</td>\n",
       "      <td>-0.721000</td>\n",
       "      <td>-0.245000</td>\n",
       "      <td>-3.211447e+00</td>\n",
       "      <td>3.580200e+01</td>\n",
       "      <td>-1.031500e+00</td>\n",
       "    </tr>\n",
       "    <tr>\n",
       "      <th>50%</th>\n",
       "      <td>199.000000</td>\n",
       "      <td>152.000000</td>\n",
       "      <td>30.000000</td>\n",
       "      <td>1.000000</td>\n",
       "      <td>2.019123e+07</td>\n",
       "      <td>8.256922e+06</td>\n",
       "      <td>2.144162e+06</td>\n",
       "      <td>9.714268e+06</td>\n",
       "      <td>6.726104e+06</td>\n",
       "      <td>2.037449e+07</td>\n",
       "      <td>...</td>\n",
       "      <td>7.221788e+04</td>\n",
       "      <td>1.404137e+04</td>\n",
       "      <td>2.222222e+04</td>\n",
       "      <td>9.015759e+03</td>\n",
       "      <td>2.148000</td>\n",
       "      <td>2.114000</td>\n",
       "      <td>2.999000</td>\n",
       "      <td>4.288755e+00</td>\n",
       "      <td>1.049590e+02</td>\n",
       "      <td>4.169100e+01</td>\n",
       "    </tr>\n",
       "    <tr>\n",
       "      <th>75%</th>\n",
       "      <td>290.000000</td>\n",
       "      <td>300.000000</td>\n",
       "      <td>67.000000</td>\n",
       "      <td>1.000000</td>\n",
       "      <td>2.020123e+07</td>\n",
       "      <td>1.670381e+07</td>\n",
       "      <td>4.868394e+06</td>\n",
       "      <td>1.951774e+07</td>\n",
       "      <td>1.468635e+07</td>\n",
       "      <td>3.668912e+07</td>\n",
       "      <td>...</td>\n",
       "      <td>1.661013e+05</td>\n",
       "      <td>5.420311e+04</td>\n",
       "      <td>7.500000e+04</td>\n",
       "      <td>3.977658e+04</td>\n",
       "      <td>8.687000</td>\n",
       "      <td>7.014000</td>\n",
       "      <td>7.828500</td>\n",
       "      <td>1.946191e+01</td>\n",
       "      <td>2.286010e+02</td>\n",
       "      <td>9.461300e+01</td>\n",
       "    </tr>\n",
       "    <tr>\n",
       "      <th>max</th>\n",
       "      <td>1629.000000</td>\n",
       "      <td>559.000000</td>\n",
       "      <td>16310.000000</td>\n",
       "      <td>1.000000</td>\n",
       "      <td>2.022063e+07</td>\n",
       "      <td>5.369207e+09</td>\n",
       "      <td>4.158548e+09</td>\n",
       "      <td>1.002787e+10</td>\n",
       "      <td>1.001807e+10</td>\n",
       "      <td>1.595357e+10</td>\n",
       "      <td>...</td>\n",
       "      <td>8.514408e+07</td>\n",
       "      <td>4.245776e+08</td>\n",
       "      <td>2.489720e+08</td>\n",
       "      <td>4.075220e+08</td>\n",
       "      <td>50281.809000</td>\n",
       "      <td>427.792000</td>\n",
       "      <td>244.262000</td>\n",
       "      <td>4.844467e+07</td>\n",
       "      <td>4.000000e+07</td>\n",
       "      <td>1.059169e+07</td>\n",
       "    </tr>\n",
       "  </tbody>\n",
       "</table>\n",
       "<p>8 rows × 76 columns</p>\n",
       "</div>"
      ],
      "text/plain": [
       "           ESTB_DATE   LIST_DATE       employee          label          Date  \\\n",
       "count  107167.000000  717.000000  108289.000000  109142.000000  1.091420e+05   \n",
       "mean      219.927627  190.100418      62.426119       0.906205  2.019548e+07   \n",
       "std       137.038929  139.643825     160.280163       0.291545  1.137009e+04   \n",
       "min         3.000000    4.000000       0.000000       0.000000  2.018013e+07   \n",
       "25%       112.000000   75.000000       7.000000       1.000000  2.018123e+07   \n",
       "50%       199.000000  152.000000      30.000000       1.000000  2.019123e+07   \n",
       "75%       290.000000  300.000000      67.000000       1.000000  2.020123e+07   \n",
       "max      1629.000000  559.000000   16310.000000       1.000000  2.022063e+07   \n",
       "\n",
       "       currentAsset    saleCredit  noCurrentAsset  tangibleAsset  \\\n",
       "count  1.081430e+05  9.113200e+04    1.071170e+05   1.018980e+05   \n",
       "mean   1.559555e+07  4.345309e+06    2.002072e+07   1.431236e+07   \n",
       "std    4.427457e+07  2.230116e+07    5.802346e+07   4.736083e+07   \n",
       "min   -2.719290e+05 -5.421180e+05   -1.964740e+05  -4.939030e+05   \n",
       "25%    3.493444e+06  6.949922e+05    3.220908e+06   1.051310e+06   \n",
       "50%    8.256922e+06  2.144162e+06    9.714268e+06   6.726104e+06   \n",
       "75%    1.670381e+07  4.868394e+06    1.951774e+07   1.468635e+07   \n",
       "max    5.369207e+09  4.158548e+09    1.002787e+10   1.001807e+10   \n",
       "\n",
       "         totalAsset  ...      sell/emp      bpro/emp   capital/emp  \\\n",
       "count  1.081530e+05  ...  1.039620e+05  1.052160e+05  1.052160e+05   \n",
       "mean   3.558984e+07  ...  2.575138e+05  1.145524e+05  3.627127e+05   \n",
       "std    9.544234e+07  ...  1.104704e+06  2.165616e+06  3.194812e+06   \n",
       "min   -3.793700e+04  ... -5.678862e+06 -8.514408e+07 -2.886529e+04   \n",
       "25%    1.290780e+07  ...  3.532792e+04 -1.369859e+03  7.304598e+03   \n",
       "50%    2.037449e+07  ...  7.221788e+04  1.404137e+04  2.222222e+04   \n",
       "75%    3.668912e+07  ...  1.661013e+05  5.420311e+04  7.500000e+04   \n",
       "max    1.595357e+10  ...  8.514408e+07  4.245776e+08  2.489720e+08   \n",
       "\n",
       "         profit/emp    bprofit/ICR  totalCapitalNet  totalCapitalbpro  \\\n",
       "count  1.052160e+05   90921.000000     72701.000000      72683.000000   \n",
       "mean   2.723170e+04      56.487838         1.865169          3.369693   \n",
       "std    2.875318e+06    1671.956858        25.694053         24.340964   \n",
       "min   -3.183783e+08 -294887.786000     -3266.323000      -3320.311000   \n",
       "25%   -5.456093e+03       0.130000        -0.721000         -0.245000   \n",
       "50%    9.015759e+03       2.148000         2.114000          2.999000   \n",
       "75%    3.977658e+04       8.687000         7.014000          7.828500   \n",
       "max    4.075220e+08   50281.809000       427.792000        244.262000   \n",
       "\n",
       "       totalCapitalGrowth  noCurrentRatio  currentAsset/earnedSurplus  \n",
       "count        7.282400e+04    1.070930e+05                1.078510e+05  \n",
       "mean         9.130668e+02    6.663594e+02               -9.765433e+01  \n",
       "std          1.842636e+05    1.506909e+05                4.011175e+04  \n",
       "min         -2.681187e+03   -2.694073e+07               -3.052247e+06  \n",
       "25%         -3.211447e+00    3.580200e+01               -1.031500e+00  \n",
       "50%          4.288755e+00    1.049590e+02                4.169100e+01  \n",
       "75%          1.946191e+01    2.286010e+02                9.461300e+01  \n",
       "max          4.844467e+07    4.000000e+07                1.059169e+07  \n",
       "\n",
       "[8 rows x 76 columns]"
      ]
     },
     "execution_count": 45,
     "metadata": {},
     "output_type": "execute_result"
    }
   ],
   "source": [
    "# 수치형 데이터\n",
    "\n",
    "allcop.describe(exclude = ['int'])"
   ]
  }
 ],
 "metadata": {
  "kernelspec": {
   "display_name": "Python 3",
   "language": "python",
   "name": "python3"
  },
  "language_info": {
   "codemirror_mode": {
    "name": "ipython",
    "version": 3
   },
   "file_extension": ".py",
   "mimetype": "text/x-python",
   "name": "python",
   "nbconvert_exporter": "python",
   "pygments_lexer": "ipython3",
   "version": "3.8.5"
  }
 },
 "nbformat": 4,
 "nbformat_minor": 4
}
