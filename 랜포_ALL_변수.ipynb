{
  "cells": [
    {
      "cell_type": "markdown",
      "source": [
        "## 데이터 전처리"
      ],
      "metadata": {
        "id": "_uYirlKx9inK"
      }
    },
    {
      "cell_type": "code",
      "execution_count": 9,
      "metadata": {
        "colab": {
          "base_uri": "https://localhost:8080/"
        },
        "id": "tHy3tDH1iWru",
        "outputId": "b73cfb80-9fab-4129-84c2-d6b77cd63b64"
      },
      "outputs": [
        {
          "output_type": "stream",
          "name": "stdout",
          "text": [
            "Drive already mounted at /content/drive; to attempt to forcibly remount, call drive.mount(\"/content/drive\", force_remount=True).\n"
          ]
        }
      ],
      "source": [
        "from google.colab import drive\n",
        "drive.mount('/content/drive')"
      ]
    },
    {
      "cell_type": "code",
      "execution_count": 3,
      "metadata": {
        "id": "OwC2BIoVieBZ"
      },
      "outputs": [],
      "source": [
        "import os \n",
        "import pandas as pd \n",
        "import numpy as np\n",
        "from sklearn.model_selection import train_test_split\n",
        "from sklearn.datasets import make_classification\n",
        "from sklearn.feature_selection import RFE, RFECV\n",
        "from lightgbm import LGBMClassifier\n",
        "import matplotlib.pyplot as plt\n",
        "import seaborn as sns"
      ]
    },
    {
      "cell_type": "code",
      "execution_count": null,
      "metadata": {
        "colab": {
          "base_uri": "https://localhost:8080/",
          "height": 35
        },
        "id": "z9-A0DT6ilFc",
        "outputId": "5a9e9399-1f78-4598-d35a-699c58a46491"
      },
      "outputs": [
        {
          "output_type": "execute_result",
          "data": {
            "text/plain": [
              "'/content'"
            ],
            "application/vnd.google.colaboratory.intrinsic+json": {
              "type": "string"
            }
          },
          "metadata": {},
          "execution_count": 3
        }
      ],
      "source": [
        "# 현재경로 확인\n",
        "\n",
        "os.getcwd()"
      ]
    },
    {
      "cell_type": "code",
      "execution_count": 4,
      "metadata": {
        "id": "ypiKkCJlim_E"
      },
      "outputs": [],
      "source": [
        "# 데이터 불러오기\n",
        "\n",
        "data = pd.read_csv('/content/drive/MyDrive/numble/binning_data.csv', encoding='cp949')\n",
        "#data.head()"
      ]
    },
    {
      "cell_type": "code",
      "execution_count": 5,
      "metadata": {
        "colab": {
          "base_uri": "https://localhost:8080/"
        },
        "id": "X4rU_yZpiqPU",
        "outputId": "3d421d27-0e15-4e19-b90c-4545d7461ad1"
      },
      "outputs": [
        {
          "output_type": "stream",
          "name": "stdout",
          "text": [
            "nCar: 109142 nVar: 76\n"
          ]
        }
      ],
      "source": [
        "# shape확인\n",
        "\n",
        "nCar = data.shape[0] # 데이터 개수\n",
        "nVar = data.shape[1] # 변수 개수\n",
        "print('nCar: %d' % nCar, 'nVar: %d' % nVar )"
      ]
    },
    {
      "cell_type": "code",
      "execution_count": 6,
      "metadata": {
        "id": "O9ouQCKblpeD"
      },
      "outputs": [],
      "source": [
        "# 무의미한 변수 제거\n",
        "\n",
        "data= data.drop(['sell/emp_bin', 'bpro/emp_bin', 'capital/emp_bin', 'profit/emp_bin'],axis=1)"
      ]
    },
    {
      "cell_type": "code",
      "execution_count": 7,
      "metadata": {
        "id": "JY8AjmmTtZjL"
      },
      "outputs": [],
      "source": [
        "data_fillna_0 = data.fillna(0)"
      ]
    },
    {
      "cell_type": "code",
      "execution_count": 8,
      "metadata": {
        "id": "zdChNEzltm6z"
      },
      "outputs": [],
      "source": [
        "#data_fillna_0.head()"
      ]
    },
    {
      "cell_type": "code",
      "execution_count": null,
      "metadata": {
        "id": "UV6Kh909itwT"
      },
      "outputs": [],
      "source": [
        "# # 타겟 변수의 형변환\n",
        "\n",
        "# mapping_dict = {'Class_1' : 1,\n",
        "#                 'Class_2' : 2,\n",
        "#                 'Class_3' : 3,\n",
        "#                 'Class_4' : 4,\n",
        "#                 'Class_5' : 5,\n",
        "#                 'Class_6' : 6,\n",
        "#                 'Class_7' : 7,\n",
        "#                 'Class_8' : 8,\n",
        "#                 'Class_9' : 9,}\n",
        "# after_mapping_target = data['target'].apply(lambda x : mapping_dict[x])\n",
        "# after_mapping_target"
      ]
    },
    {
      "cell_type": "code",
      "execution_count": null,
      "metadata": {
        "colab": {
          "base_uri": "https://localhost:8080/"
        },
        "id": "jQjGqxFIiwVT",
        "outputId": "f5c22db2-e5ae-4d6a-931e-85022929d5ed"
      },
      "outputs": [
        {
          "output_type": "stream",
          "name": "stdout",
          "text": [
            "(87313, 70) (21829, 70) (87313,) (21829,)\n"
          ]
        }
      ],
      "source": [
        "# features/target, train/test dataset 분리\n",
        "\n",
        "feature_columns = list(data_fillna_0.columns.difference(['label']))\n",
        "X = data_fillna_0[feature_columns]\n",
        "y = data_fillna_0['label']\n",
        "\n",
        "train_x, test_x, train_y, test_y = train_test_split(X, y, test_size = 0.2, random_state = 42) # 학습데이터와 평가데이터의 비율을 8:2 로 분할| \n",
        "print(train_x.shape, test_x.shape, train_y.shape, test_y.shape) # 데이터 개수 확인"
      ]
    },
    {
      "cell_type": "code",
      "execution_count": null,
      "metadata": {
        "colab": {
          "base_uri": "https://localhost:8080/"
        },
        "id": "d_kgiYetnMFk",
        "outputId": "246cde1e-37f4-44c5-87c9-54e3899b20b5"
      },
      "outputs": [
        {
          "output_type": "stream",
          "name": "stdout",
          "text": [
            "?곸뾽?댁씡竊덉넀?ㅿ펹_bin            0\n",
            "?댁씡?됱뿬湲?寃곗넀湲덌펹_bin          0\n",
            "ESTB_DATE_bin               0\n",
            "ICR_bin                     0\n",
            "LIST_DATE_bin               0\n",
            "                           ..\n",
            "totalCapitalTurnover_bin    0\n",
            "totalCapital_bin            0\n",
            "totalCapitalbpro_bin        0\n",
            "totalDept_bin               0\n",
            "totalcost/finCharge_bin     0\n",
            "Length: 74, dtype: int64\n"
          ]
        }
      ],
      "source": [
        "print(train_x.isnull().sum())"
      ]
    },
    {
      "cell_type": "code",
      "execution_count": null,
      "metadata": {
        "colab": {
          "base_uri": "https://localhost:8080/"
        },
        "id": "1vUABuVYnZpa",
        "outputId": "0135d53b-89c5-4627-e5c1-dbe735e7f724"
      },
      "outputs": [
        {
          "output_type": "stream",
          "name": "stdout",
          "text": [
            "?곸뾽?댁씡竊덉넀?ㅿ펹_bin            0\n",
            "?댁씡?됱뿬湲?寃곗넀湲덌펹_bin          0\n",
            "ESTB_DATE_bin               0\n",
            "ICR_bin                     0\n",
            "LIST_DATE_bin               0\n",
            "                           ..\n",
            "totalCapitalTurnover_bin    0\n",
            "totalCapital_bin            0\n",
            "totalCapitalbpro_bin        0\n",
            "totalDept_bin               0\n",
            "totalcost/finCharge_bin     0\n",
            "Length: 74, dtype: int64\n"
          ]
        }
      ],
      "source": [
        "print(test_x.isnull().sum())"
      ]
    },
    {
      "cell_type": "markdown",
      "source": [
        "## 모델링"
      ],
      "metadata": {
        "id": "Pm9WpUTU9nIi"
      }
    },
    {
      "cell_type": "code",
      "source": [
        "#기본적인 randomforest모형\n",
        "\n",
        "from sklearn.ensemble import RandomForestClassifier\n",
        "from sklearn.metrics import accuracy_score # 정확도 함수\n",
        "\n",
        "clf = RandomForestClassifier(n_estimators=20, max_depth=5,random_state=0)\n",
        "clf.fit(train_x,train_y)\n",
        "\n",
        "predict1 = clf.predict(test_x)\n",
        "print(accuracy_score(test_y,predict1))"
      ],
      "metadata": {
        "colab": {
          "base_uri": "https://localhost:8080/"
        },
        "id": "fcuRCnwKfn_Q",
        "outputId": "85ab05bd-65d6-42dc-f98d-a96aeefeb377"
      },
      "execution_count": null,
      "outputs": [
        {
          "output_type": "stream",
          "name": "stdout",
          "text": [
            "0.9451646891749508\n"
          ]
        }
      ]
    },
    {
      "cell_type": "code",
      "source": [
        "# AUC score\n",
        "\n",
        "from sklearn.metrics import roc_auc_score\n",
        "\n",
        "predict2 = clf.predict(test_x)\n",
        "print('Random Forest AUC Score :', roc_auc_score(test_y,predict1))"
      ],
      "metadata": {
        "colab": {
          "base_uri": "https://localhost:8080/"
        },
        "id": "rm3fOvxlHtM5",
        "outputId": "6e286aa7-2975-4422-bf17-c588ac0f0e3a"
      },
      "execution_count": null,
      "outputs": [
        {
          "output_type": "stream",
          "name": "stdout",
          "text": [
            "Random Forest AUC Score : 0.7445875315150037\n"
          ]
        }
      ]
    },
    {
      "cell_type": "code",
      "execution_count": null,
      "metadata": {
        "id": "ToGcsAwDiyc0",
        "colab": {
          "base_uri": "https://localhost:8080/"
        },
        "outputId": "7adbe2e6-4b97-4cf7-e9c7-34c9e60f9e5b"
      },
      "outputs": [
        {
          "output_type": "stream",
          "name": "stdout",
          "text": [
            "0.9585872005130789\n"
          ]
        }
      ],
      "source": [
        "# sample 100개, tree depth - 20\n",
        "\n",
        "clf = RandomForestClassifier(n_estimators=100, max_depth=20,random_state=0)\n",
        "clf.fit(train_x,train_y)\n",
        "\n",
        "predict2 = clf.predict(test_x)\n",
        "print(accuracy_score(test_y,predict2))"
      ]
    },
    {
      "cell_type": "code",
      "source": [
        "# AUC score\n",
        "\n",
        "from sklearn.metrics import roc_auc_score\n",
        "\n",
        "predict2 = clf.predict(test_x)\n",
        "print('Random Forest AUC Score :', roc_auc_score(test_y,predict2))"
      ],
      "metadata": {
        "colab": {
          "base_uri": "https://localhost:8080/"
        },
        "id": "p8-GVKEJHfB2",
        "outputId": "74b93803-88f2-440f-9add-654fc4748e84"
      },
      "execution_count": null,
      "outputs": [
        {
          "output_type": "stream",
          "name": "stdout",
          "text": [
            "Random Forest AUC Score : 0.8168452996258079\n"
          ]
        }
      ]
    },
    {
      "cell_type": "code",
      "execution_count": null,
      "metadata": {
        "colab": {
          "base_uri": "https://localhost:8080/"
        },
        "id": "oUBZ_tgVi0c0",
        "outputId": "861b5410-0c0e-4fb7-eaea-8a505289ad7f"
      },
      "outputs": [
        {
          "output_type": "stream",
          "name": "stdout",
          "text": [
            "0.9590453067020935\n"
          ]
        }
      ],
      "source": [
        "# sample 300개, tree depth - 20\n",
        "\n",
        "clf = RandomForestClassifier(n_estimators=300, max_depth=20,random_state=0)\n",
        "clf.fit(train_x,train_y)\n",
        "\n",
        "predict2 = clf.predict(test_x)\n",
        "print(accuracy_score(test_y,predict2))"
      ]
    },
    {
      "cell_type": "code",
      "source": [
        "# AUC score\n",
        "\n",
        "from sklearn.metrics import roc_auc_score\n",
        "\n",
        "predict2 = clf.predict(test_x)\n",
        "print('Random Forest AUC Score :', roc_auc_score(test_y,predict2))"
      ],
      "metadata": {
        "colab": {
          "base_uri": "https://localhost:8080/"
        },
        "id": "IJO1fH4nHWH5",
        "outputId": "8a9ab6b4-4468-46ef-b6e2-29e4a49c8404"
      },
      "execution_count": null,
      "outputs": [
        {
          "output_type": "stream",
          "name": "stdout",
          "text": [
            "Random Forest AUC Score : 0.8196834537382464\n"
          ]
        }
      ]
    },
    {
      "cell_type": "code",
      "execution_count": null,
      "metadata": {
        "id": "gkF5v-vTi3FL",
        "colab": {
          "base_uri": "https://localhost:8080/"
        },
        "outputId": "b5e5006c-740a-474e-eddb-a9f51e780424"
      },
      "outputs": [
        {
          "output_type": "stream",
          "name": "stdout",
          "text": [
            "0.9590453067020935\n"
          ]
        }
      ],
      "source": [
        "# # sample 100개, tree depth - 100(max)\n",
        "\n",
        "clf = RandomForestClassifier(n_estimators=100, max_depth=100,random_state=0)\n",
        "clf.fit(train_x,train_y)\n",
        "\n",
        "predict2 = clf.predict(test_x)\n",
        "print(accuracy_score(test_y,predict2))"
      ]
    },
    {
      "cell_type": "code",
      "source": [
        "# AUC score\n",
        "\n",
        "from sklearn.metrics import roc_auc_score\n",
        "\n",
        "predict2 = clf.predict(test_x)\n",
        "print('Random Forest AUC Score :', roc_auc_score(test_y,predict2))"
      ],
      "metadata": {
        "colab": {
          "base_uri": "https://localhost:8080/"
        },
        "id": "LnP1-4zdH0Nh",
        "outputId": "e3dab210-8f5f-48fd-ac0b-5daf69608685"
      },
      "execution_count": null,
      "outputs": [
        {
          "output_type": "stream",
          "name": "stdout",
          "text": [
            "Random Forest AUC Score : 0.8233455585904601\n"
          ]
        }
      ]
    },
    {
      "cell_type": "code",
      "execution_count": null,
      "metadata": {
        "id": "400QY6WfuWwj",
        "colab": {
          "base_uri": "https://localhost:8080/",
          "height": 1000
        },
        "outputId": "1095b237-be94-4854-8cf7-d31bf9d05dc2"
      },
      "outputs": [
        {
          "output_type": "stream",
          "name": "stderr",
          "text": [
            "/usr/local/lib/python3.7/dist-packages/matplotlib/backends/backend_agg.py:214: RuntimeWarning: Glyph 45825 missing from current font.\n",
            "  font.set_text(s, 0.0, flags=flags)\n",
            "/usr/local/lib/python3.7/dist-packages/matplotlib/backends/backend_agg.py:214: RuntimeWarning: Glyph 50465 missing from current font.\n",
            "  font.set_text(s, 0.0, flags=flags)\n",
            "/usr/local/lib/python3.7/dist-packages/matplotlib/backends/backend_agg.py:214: RuntimeWarning: Glyph 46129 missing from current font.\n",
            "  font.set_text(s, 0.0, flags=flags)\n",
            "/usr/local/lib/python3.7/dist-packages/matplotlib/backends/backend_agg.py:214: RuntimeWarning: Glyph 49132 missing from current font.\n",
            "  font.set_text(s, 0.0, flags=flags)\n",
            "/usr/local/lib/python3.7/dist-packages/matplotlib/backends/backend_agg.py:214: RuntimeWarning: Glyph 28274 missing from current font.\n",
            "  font.set_text(s, 0.0, flags=flags)\n",
            "/usr/local/lib/python3.7/dist-packages/matplotlib/backends/backend_agg.py:214: RuntimeWarning: Glyph 23491 missing from current font.\n",
            "  font.set_text(s, 0.0, flags=flags)\n",
            "/usr/local/lib/python3.7/dist-packages/matplotlib/backends/backend_agg.py:214: RuntimeWarning: Glyph 44247 missing from current font.\n",
            "  font.set_text(s, 0.0, flags=flags)\n",
            "/usr/local/lib/python3.7/dist-packages/matplotlib/backends/backend_agg.py:214: RuntimeWarning: Glyph 45312 missing from current font.\n",
            "  font.set_text(s, 0.0, flags=flags)\n",
            "/usr/local/lib/python3.7/dist-packages/matplotlib/backends/backend_agg.py:214: RuntimeWarning: Glyph 45900 missing from current font.\n",
            "  font.set_text(s, 0.0, flags=flags)\n",
            "/usr/local/lib/python3.7/dist-packages/matplotlib/backends/backend_agg.py:214: RuntimeWarning: Glyph 54201 missing from current font.\n",
            "  font.set_text(s, 0.0, flags=flags)\n",
            "/usr/local/lib/python3.7/dist-packages/matplotlib/backends/backend_agg.py:214: RuntimeWarning: Glyph 44280 missing from current font.\n",
            "  font.set_text(s, 0.0, flags=flags)\n",
            "/usr/local/lib/python3.7/dist-packages/matplotlib/backends/backend_agg.py:214: RuntimeWarning: Glyph 49085 missing from current font.\n",
            "  font.set_text(s, 0.0, flags=flags)\n",
            "/usr/local/lib/python3.7/dist-packages/matplotlib/backends/backend_agg.py:214: RuntimeWarning: Glyph 31434 missing from current font.\n",
            "  font.set_text(s, 0.0, flags=flags)\n",
            "/usr/local/lib/python3.7/dist-packages/matplotlib/backends/backend_agg.py:214: RuntimeWarning: Glyph 45897 missing from current font.\n",
            "  font.set_text(s, 0.0, flags=flags)\n",
            "/usr/local/lib/python3.7/dist-packages/matplotlib/backends/backend_agg.py:214: RuntimeWarning: Glyph 12671 missing from current font.\n",
            "  font.set_text(s, 0.0, flags=flags)\n",
            "/usr/local/lib/python3.7/dist-packages/matplotlib/backends/backend_agg.py:183: RuntimeWarning: Glyph 45825 missing from current font.\n",
            "  font.set_text(s, 0, flags=flags)\n",
            "/usr/local/lib/python3.7/dist-packages/matplotlib/backends/backend_agg.py:183: RuntimeWarning: Glyph 50465 missing from current font.\n",
            "  font.set_text(s, 0, flags=flags)\n",
            "/usr/local/lib/python3.7/dist-packages/matplotlib/backends/backend_agg.py:183: RuntimeWarning: Glyph 46129 missing from current font.\n",
            "  font.set_text(s, 0, flags=flags)\n",
            "/usr/local/lib/python3.7/dist-packages/matplotlib/backends/backend_agg.py:183: RuntimeWarning: Glyph 49132 missing from current font.\n",
            "  font.set_text(s, 0, flags=flags)\n",
            "/usr/local/lib/python3.7/dist-packages/matplotlib/backends/backend_agg.py:183: RuntimeWarning: Glyph 28274 missing from current font.\n",
            "  font.set_text(s, 0, flags=flags)\n",
            "/usr/local/lib/python3.7/dist-packages/matplotlib/backends/backend_agg.py:183: RuntimeWarning: Glyph 23491 missing from current font.\n",
            "  font.set_text(s, 0, flags=flags)\n",
            "/usr/local/lib/python3.7/dist-packages/matplotlib/backends/backend_agg.py:183: RuntimeWarning: Glyph 44247 missing from current font.\n",
            "  font.set_text(s, 0, flags=flags)\n",
            "/usr/local/lib/python3.7/dist-packages/matplotlib/backends/backend_agg.py:183: RuntimeWarning: Glyph 45312 missing from current font.\n",
            "  font.set_text(s, 0, flags=flags)\n",
            "/usr/local/lib/python3.7/dist-packages/matplotlib/backends/backend_agg.py:183: RuntimeWarning: Glyph 45900 missing from current font.\n",
            "  font.set_text(s, 0, flags=flags)\n",
            "/usr/local/lib/python3.7/dist-packages/matplotlib/backends/backend_agg.py:183: RuntimeWarning: Glyph 54201 missing from current font.\n",
            "  font.set_text(s, 0, flags=flags)\n",
            "/usr/local/lib/python3.7/dist-packages/matplotlib/backends/backend_agg.py:183: RuntimeWarning: Glyph 44280 missing from current font.\n",
            "  font.set_text(s, 0, flags=flags)\n",
            "/usr/local/lib/python3.7/dist-packages/matplotlib/backends/backend_agg.py:183: RuntimeWarning: Glyph 49085 missing from current font.\n",
            "  font.set_text(s, 0, flags=flags)\n",
            "/usr/local/lib/python3.7/dist-packages/matplotlib/backends/backend_agg.py:183: RuntimeWarning: Glyph 31434 missing from current font.\n",
            "  font.set_text(s, 0, flags=flags)\n",
            "/usr/local/lib/python3.7/dist-packages/matplotlib/backends/backend_agg.py:183: RuntimeWarning: Glyph 45897 missing from current font.\n",
            "  font.set_text(s, 0, flags=flags)\n",
            "/usr/local/lib/python3.7/dist-packages/matplotlib/backends/backend_agg.py:183: RuntimeWarning: Glyph 12671 missing from current font.\n",
            "  font.set_text(s, 0, flags=flags)\n"
          ]
        },
        {
          "output_type": "display_data",
          "data": {
            "text/plain": [
              "<Figure size 576x432 with 1 Axes>"
            ],
            "image/png": "[encoded data removed]"
          },
          "metadata": {
            "needs_background": "light"
          }
        }
      ],
      "source": [
        "ft_importance_values = clf.feature_importances_\n",
        "ft_series = pd.Series(ft_importance_values, index = train_x.columns)\n",
        "ft_top30 = ft_series.sort_values(ascending=False)[:20]\n",
        "\n",
        "# 시각화\n",
        "plt.figure(figsize=(8,6))\n",
        "plt.title('Feature Importance Top 20')\n",
        "sns.barplot(x=ft_top30, y=ft_top30.index)\n",
        "plt.show()"
      ]
    },
    {
      "cell_type": "code",
      "execution_count": null,
      "metadata": {
        "id": "dLdJXVvczn1k"
      },
      "outputs": [],
      "source": [
        "clf = RandomForestClassifier(n_estimators=300, max_depth=20,random_state=0)\n",
        "selector = RFE(clf, n_features_to_select=18, step=4)\n",
        "selector = selector.fit(X, y)"
      ]
    },
    {
      "cell_type": "code",
      "execution_count": null,
      "metadata": {
        "id": "-otPRTrNzu7n",
        "colab": {
          "base_uri": "https://localhost:8080/"
        },
        "outputId": "2b870fe1-25d4-4c58-8e56-0702238517fd"
      },
      "outputs": [
        {
          "output_type": "execute_result",
          "data": {
            "text/plain": [
              "array([ True, False,  True, False, False, False, False, False, False,\n",
              "       False,  True, False, False, False, False,  True, False,  True,\n",
              "       False, False, False,  True, False, False, False, False, False,\n",
              "       False, False, False, False, False, False,  True, False,  True,\n",
              "       False, False, False, False, False, False, False, False, False,\n",
              "       False, False, False,  True,  True,  True,  True, False, False,\n",
              "       False, False,  True, False, False, False,  True, False, False,\n",
              "       False, False,  True,  True, False, False, False,  True, False,\n",
              "        True, False])"
            ]
          },
          "metadata": {},
          "execution_count": 30
        }
      ],
      "source": [
        "selector.support_"
      ]
    },
    {
      "cell_type": "code",
      "execution_count": null,
      "metadata": {
        "id": "qSwrWBOf3Zep"
      },
      "outputs": [],
      "source": [
        "clf = RandomForestClassifier(n_estimators=300, max_depth=20,random_state=0)\n",
        "min_features_to_select = 11\n",
        "step = 4\n",
        "selector = RFECV(clf, step=step, cv=5, min_features_to_select=min_features_to_select)\n",
        "selector = selector.fit(X, y)"
      ]
    },
    {
      "cell_type": "code",
      "execution_count": null,
      "metadata": {
        "id": "GUjnwLUq4HdU",
        "colab": {
          "base_uri": "https://localhost:8080/"
        },
        "outputId": "3346d851-d4b1-4800-9acb-d13ee9edd44c"
      },
      "outputs": [
        {
          "output_type": "execute_result",
          "data": {
            "text/plain": [
              "74"
            ]
          },
          "metadata": {},
          "execution_count": 32
        }
      ],
      "source": [
        "selector.support_.sum()"
      ]
    },
    {
      "cell_type": "code",
      "execution_count": null,
      "metadata": {
        "id": "gndau20z-Kr1",
        "colab": {
          "base_uri": "https://localhost:8080/",
          "height": 426
        },
        "outputId": "30ecbfbf-d216-4402-ef8b-214bd11fec7b"
      },
      "outputs": [
        {
          "output_type": "stream",
          "name": "stderr",
          "text": [
            "/usr/local/lib/python3.7/dist-packages/sklearn/utils/deprecation.py:103: FutureWarning: The `grid_scores_` attribute is deprecated in version 1.0 in favor of `cv_results_` and will be removed in version 1.2.\n",
            "  warnings.warn(msg, category=FutureWarning)\n"
          ]
        },
        {
          "output_type": "execute_result",
          "data": {
            "text/plain": [
              "[<matplotlib.lines.Line2D at 0x7febac28f050>,\n",
              " <matplotlib.lines.Line2D at 0x7febac28f590>,\n",
              " <matplotlib.lines.Line2D at 0x7febac28f110>,\n",
              " <matplotlib.lines.Line2D at 0x7febac28fa50>,\n",
              " <matplotlib.lines.Line2D at 0x7febac28f610>]"
            ]
          },
          "metadata": {},
          "execution_count": 33
        },
        {
          "output_type": "display_data",
          "data": {
            "text/plain": [
              "<Figure size 432x288 with 1 Axes>"
            ],
            "image/png": "[encoded data removed]"
          },
          "metadata": {
            "needs_background": "light"
          }
        }
      ],
      "source": [
        "plt.figure()\n",
        "plt.xlabel(\"Number of features selected\")\n",
        "plt.ylabel(\"Cross validation score (accuracy)\")\n",
        "plt.plot(\n",
        "    range(min_features_to_select, len(selector.grid_scores_)*step + min_features_to_select, step),\n",
        "    selector.grid_scores_,\n",
        ")"
      ]
    },
    {
      "cell_type": "code",
      "execution_count": null,
      "metadata": {
        "id": "Zd-prmtpHEEY"
      },
      "outputs": [],
      "source": []
    }
  ],
  "metadata": {
    "colab": {
      "provenance": []
    },
    "kernelspec": {
      "display_name": "Python 3",
      "name": "python3"
    },
    "language_info": {
      "name": "python"
    },
    "accelerator": "GPU",
    "gpuClass": "standard"
  },
  "nbformat": 4,
  "nbformat_minor": 0
}