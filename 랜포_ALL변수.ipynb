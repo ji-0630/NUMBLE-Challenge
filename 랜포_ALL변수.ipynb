{
  "cells": [
    {
      "cell_type": "code",
      "execution_count": 1,
      "metadata": {
        "colab": {
          "base_uri": "https://localhost:8080/"
        },
        "id": "tHy3tDH1iWru",
        "outputId": "7aaaae81-bc1d-44b3-e74b-f2d6e7441879"
      },
      "outputs": [
        {
          "output_type": "stream",
          "name": "stdout",
          "text": [
            "Mounted at /content/drive\n"
          ]
        }
      ],
      "source": [
        "from google.colab import drive\n",
        "drive.mount('/content/drive')"
      ]
    },
    {
      "cell_type": "code",
      "execution_count": 2,
      "metadata": {
        "id": "OwC2BIoVieBZ"
      },
      "outputs": [],
      "source": [
        "import os \n",
        "import pandas as pd \n",
        "import numpy as np\n",
        "from sklearn.model_selection import train_test_split\n",
        "from sklearn.datasets import make_classification\n",
        "from sklearn.feature_selection import RFE, RFECV\n",
        "from lightgbm import LGBMClassifier\n",
        "import matplotlib.pyplot as plt\n",
        "import seaborn as sns"
      ]
    },
    {
      "cell_type": "code",
      "execution_count": null,
      "metadata": {
        "colab": {
          "base_uri": "https://localhost:8080/",
          "height": 35
        },
        "id": "z9-A0DT6ilFc",
        "outputId": "dc43578b-5424-48ad-f512-308fe4862ae1"
      },
      "outputs": [
        {
          "output_type": "execute_result",
          "data": {
            "text/plain": [
              "'/content'"
            ],
            "application/vnd.google.colaboratory.intrinsic+json": {
              "type": "string"
            }
          },
          "metadata": {},
          "execution_count": 3
        }
      ],
      "source": [
        "# 현재경로 확인\n",
        "\n",
        "os.getcwd()"
      ]
    },
    {
      "cell_type": "code",
      "execution_count": 4,
      "metadata": {
        "id": "ypiKkCJlim_E"
      },
      "outputs": [],
      "source": [
        "# 데이터 불러오기\n",
        "\n",
        "data = pd.read_csv('/content/drive/MyDrive/numble/binning_data.csv', encoding='cp949')\n",
        "#data.head()"
      ]
    },
    {
      "cell_type": "code",
      "execution_count": null,
      "metadata": {
        "colab": {
          "base_uri": "https://localhost:8080/"
        },
        "id": "X4rU_yZpiqPU",
        "outputId": "08387eac-ad88-492f-a4f1-fc956a40b158"
      },
      "outputs": [
        {
          "output_type": "stream",
          "name": "stdout",
          "text": [
            "nCar: 109142 nVar: 76\n"
          ]
        }
      ],
      "source": [
        "# shape확인\n",
        "\n",
        "nCar = data.shape[0] # 데이터 개수\n",
        "nVar = data.shape[1] # 변수 개수\n",
        "print('nCar: %d' % nCar, 'nVar: %d' % nVar )"
      ]
    },
    {
      "cell_type": "code",
      "execution_count": null,
      "metadata": {
        "id": "O9ouQCKblpeD"
      },
      "outputs": [],
      "source": [
        "# 무의미한 변수 제거\n",
        "\n",
        "data= data.drop(['BIZ_NO'],axis=1)"
      ]
    },
    {
      "cell_type": "code",
      "execution_count": null,
      "metadata": {
        "id": "JY8AjmmTtZjL"
      },
      "outputs": [],
      "source": [
        "data_fillna_0 = data.fillna(0)"
      ]
    },
    {
      "cell_type": "code",
      "execution_count": null,
      "metadata": {
        "colab": {
          "base_uri": "https://localhost:8080/",
          "height": 299
        },
        "id": "zdChNEzltm6z",
        "outputId": "c549a82f-e11d-4079-db7c-e72f877c1cc5"
      },
      "outputs": [
        {
          "output_type": "execute_result",
          "data": {
            "text/plain": [
              "   label  ESTB_DATE_bin  LIST_DATE_bin  employee_bin  currentAsset_bin  \\\n",
              "0      0            5.0            0.0           5.0               2.0   \n",
              "1      0            5.0            0.0           5.0               2.0   \n",
              "2      0            5.0            0.0           5.0               0.0   \n",
              "3      0            5.0            0.0           5.0               0.0   \n",
              "4      0            7.0            0.0           3.0               2.0   \n",
              "\n",
              "   saleCredit_bin  noCurrentAsset_bin  tangibleAsset_bin  totalAsset_bin  \\\n",
              "0             2.0                 3.0                4.0             2.0   \n",
              "1             3.0                 3.0                4.0             2.0   \n",
              "2             0.0                 0.0                0.0             0.0   \n",
              "3             0.0                 0.0                0.0             0.0   \n",
              "4             0.0                 2.0                2.0             1.0   \n",
              "\n",
              "   currentDept_bin  ...  sell/emp_bin  bpro/emp_bin  capital/emp_bin  \\\n",
              "0              2.0  ...           3.0           1.0              3.0   \n",
              "1              3.0  ...           2.0           2.0              3.0   \n",
              "2              0.0  ...           0.0           2.0              1.0   \n",
              "3              0.0  ...           0.0           2.0              1.0   \n",
              "4              5.0  ...           6.0           1.0              7.0   \n",
              "\n",
              "   profit/emp_bin  bprofit/ICR_bin  totalCapitalNet_bin  totalCapitalbpro_bin  \\\n",
              "0             1.0              1.0                  0.0                   0.0   \n",
              "1             2.0              1.0                  1.0                   1.0   \n",
              "2             2.0              0.0                  0.0                   0.0   \n",
              "3             2.0              0.0                  0.0                   0.0   \n",
              "4             1.0              1.0                  0.0                   0.0   \n",
              "\n",
              "   totalCapitalGrowth_bin  noCurrentRatio_bin  currentAsset/earnedSurplus_bin  \n",
              "0                     0.0                 5.0                             1.0  \n",
              "1                     1.0                 6.0                             1.0  \n",
              "2                     1.0                 0.0                             0.0  \n",
              "3                     0.0                 0.0                             0.0  \n",
              "4                     0.0                 1.0                             1.0  \n",
              "\n",
              "[5 rows x 75 columns]"
            ],
            "text/html": [
              "\n",
              "  <div id=\"df-432bf4b3-30f0-49cd-9239-d91a04407fec\">\n",
              "    <div class=\"colab-df-container\">\n",
              "      <div>\n",
              "<style scoped>\n",
              "    .dataframe tbody tr th:only-of-type {\n",
              "        vertical-align: middle;\n",
              "    }\n",
              "\n",
              "    .dataframe tbody tr th {\n",
              "        vertical-align: top;\n",
              "    }\n",
              "\n",
              "    .dataframe thead th {\n",
              "        text-align: right;\n",
              "    }\n",
              "</style>\n",
              "<table border=\"1\" class=\"dataframe\">\n",
              "  <thead>\n",
              "    <tr style=\"text-align: right;\">\n",
              "      <th></th>\n",
              "      <th>label</th>\n",
              "      <th>ESTB_DATE_bin</th>\n",
              "      <th>LIST_DATE_bin</th>\n",
              "      <th>employee_bin</th>\n",
              "      <th>currentAsset_bin</th>\n",
              "      <th>saleCredit_bin</th>\n",
              "      <th>noCurrentAsset_bin</th>\n",
              "      <th>tangibleAsset_bin</th>\n",
              "      <th>totalAsset_bin</th>\n",
              "      <th>currentDept_bin</th>\n",
              "      <th>...</th>\n",
              "      <th>sell/emp_bin</th>\n",
              "      <th>bpro/emp_bin</th>\n",
              "      <th>capital/emp_bin</th>\n",
              "      <th>profit/emp_bin</th>\n",
              "      <th>bprofit/ICR_bin</th>\n",
              "      <th>totalCapitalNet_bin</th>\n",
              "      <th>totalCapitalbpro_bin</th>\n",
              "      <th>totalCapitalGrowth_bin</th>\n",
              "      <th>noCurrentRatio_bin</th>\n",
              "      <th>currentAsset/earnedSurplus_bin</th>\n",
              "    </tr>\n",
              "  </thead>\n",
              "  <tbody>\n",
              "    <tr>\n",
              "      <th>0</th>\n",
              "      <td>0</td>\n",
              "      <td>5.0</td>\n",
              "      <td>0.0</td>\n",
              "      <td>5.0</td>\n",
              "      <td>2.0</td>\n",
              "      <td>2.0</td>\n",
              "      <td>3.0</td>\n",
              "      <td>4.0</td>\n",
              "      <td>2.0</td>\n",
              "      <td>2.0</td>\n",
              "      <td>...</td>\n",
              "      <td>3.0</td>\n",
              "      <td>1.0</td>\n",
              "      <td>3.0</td>\n",
              "      <td>1.0</td>\n",
              "      <td>1.0</td>\n",
              "      <td>0.0</td>\n",
              "      <td>0.0</td>\n",
              "      <td>0.0</td>\n",
              "      <td>5.0</td>\n",
              "      <td>1.0</td>\n",
              "    </tr>\n",
              "    <tr>\n",
              "      <th>1</th>\n",
              "      <td>0</td>\n",
              "      <td>5.0</td>\n",
              "      <td>0.0</td>\n",
              "      <td>5.0</td>\n",
              "      <td>2.0</td>\n",
              "      <td>3.0</td>\n",
              "      <td>3.0</td>\n",
              "      <td>4.0</td>\n",
              "      <td>2.0</td>\n",
              "      <td>3.0</td>\n",
              "      <td>...</td>\n",
              "      <td>2.0</td>\n",
              "      <td>2.0</td>\n",
              "      <td>3.0</td>\n",
              "      <td>2.0</td>\n",
              "      <td>1.0</td>\n",
              "      <td>1.0</td>\n",
              "      <td>1.0</td>\n",
              "      <td>1.0</td>\n",
              "      <td>6.0</td>\n",
              "      <td>1.0</td>\n",
              "    </tr>\n",
              "    <tr>\n",
              "      <th>2</th>\n",
              "      <td>0</td>\n",
              "      <td>5.0</td>\n",
              "      <td>0.0</td>\n",
              "      <td>5.0</td>\n",
              "      <td>0.0</td>\n",
              "      <td>0.0</td>\n",
              "      <td>0.0</td>\n",
              "      <td>0.0</td>\n",
              "      <td>0.0</td>\n",
              "      <td>0.0</td>\n",
              "      <td>...</td>\n",
              "      <td>0.0</td>\n",
              "      <td>2.0</td>\n",
              "      <td>1.0</td>\n",
              "      <td>2.0</td>\n",
              "      <td>0.0</td>\n",
              "      <td>0.0</td>\n",
              "      <td>0.0</td>\n",
              "      <td>1.0</td>\n",
              "      <td>0.0</td>\n",
              "      <td>0.0</td>\n",
              "    </tr>\n",
              "    <tr>\n",
              "      <th>3</th>\n",
              "      <td>0</td>\n",
              "      <td>5.0</td>\n",
              "      <td>0.0</td>\n",
              "      <td>5.0</td>\n",
              "      <td>0.0</td>\n",
              "      <td>0.0</td>\n",
              "      <td>0.0</td>\n",
              "      <td>0.0</td>\n",
              "      <td>0.0</td>\n",
              "      <td>0.0</td>\n",
              "      <td>...</td>\n",
              "      <td>0.0</td>\n",
              "      <td>2.0</td>\n",
              "      <td>1.0</td>\n",
              "      <td>2.0</td>\n",
              "      <td>0.0</td>\n",
              "      <td>0.0</td>\n",
              "      <td>0.0</td>\n",
              "      <td>0.0</td>\n",
              "      <td>0.0</td>\n",
              "      <td>0.0</td>\n",
              "    </tr>\n",
              "    <tr>\n",
              "      <th>4</th>\n",
              "      <td>0</td>\n",
              "      <td>7.0</td>\n",
              "      <td>0.0</td>\n",
              "      <td>3.0</td>\n",
              "      <td>2.0</td>\n",
              "      <td>0.0</td>\n",
              "      <td>2.0</td>\n",
              "      <td>2.0</td>\n",
              "      <td>1.0</td>\n",
              "      <td>5.0</td>\n",
              "      <td>...</td>\n",
              "      <td>6.0</td>\n",
              "      <td>1.0</td>\n",
              "      <td>7.0</td>\n",
              "      <td>1.0</td>\n",
              "      <td>1.0</td>\n",
              "      <td>0.0</td>\n",
              "      <td>0.0</td>\n",
              "      <td>0.0</td>\n",
              "      <td>1.0</td>\n",
              "      <td>1.0</td>\n",
              "    </tr>\n",
              "  </tbody>\n",
              "</table>\n",
              "<p>5 rows × 75 columns</p>\n",
              "</div>\n",
              "      <button class=\"colab-df-convert\" onclick=\"convertToInteractive('df-432bf4b3-30f0-49cd-9239-d91a04407fec')\"\n",
              "              title=\"Convert this dataframe to an interactive table.\"\n",
              "              style=\"display:none;\">\n",
              "        \n",
              "  <svg xmlns=\"http://www.w3.org/2000/svg\" height=\"24px\"viewBox=\"0 0 24 24\"\n",
              "       width=\"24px\">\n",
              "    <path d=\"M0 0h24v24H0V0z\" fill=\"none\"/>\n",
              "    <path d=\"M18.56 5.44l.94 2.06.94-2.06 2.06-.94-2.06-.94-.94-2.06-.94 2.06-2.06.94zm-11 1L8.5 8.5l.94-2.06 2.06-.94-2.06-.94L8.5 2.5l-.94 2.06-2.06.94zm10 10l.94 2.06.94-2.06 2.06-.94-2.06-.94-.94-2.06-.94 2.06-2.06.94z\"/><path d=\"M17.41 7.96l-1.37-1.37c-.4-.4-.92-.59-1.43-.59-.52 0-1.04.2-1.43.59L10.3 9.45l-7.72 7.72c-.78.78-.78 2.05 0 2.83L4 21.41c.39.39.9.59 1.41.59.51 0 1.02-.2 1.41-.59l7.78-7.78 2.81-2.81c.8-.78.8-2.07 0-2.86zM5.41 20L4 18.59l7.72-7.72 1.47 1.35L5.41 20z\"/>\n",
              "  </svg>\n",
              "      </button>\n",
              "      \n",
              "  <style>\n",
              "    .colab-df-container {\n",
              "      display:flex;\n",
              "      flex-wrap:wrap;\n",
              "      gap: 12px;\n",
              "    }\n",
              "\n",
              "    .colab-df-convert {\n",
              "      background-color: #E8F0FE;\n",
              "      border: none;\n",
              "      border-radius: 50%;\n",
              "      cursor: pointer;\n",
              "      display: none;\n",
              "      fill: #1967D2;\n",
              "      height: 32px;\n",
              "      padding: 0 0 0 0;\n",
              "      width: 32px;\n",
              "    }\n",
              "\n",
              "    .colab-df-convert:hover {\n",
              "      background-color: #E2EBFA;\n",
              "      box-shadow: 0px 1px 2px rgba(60, 64, 67, 0.3), 0px 1px 3px 1px rgba(60, 64, 67, 0.15);\n",
              "      fill: #174EA6;\n",
              "    }\n",
              "\n",
              "    [theme=dark] .colab-df-convert {\n",
              "      background-color: #3B4455;\n",
              "      fill: #D2E3FC;\n",
              "    }\n",
              "\n",
              "    [theme=dark] .colab-df-convert:hover {\n",
              "      background-color: #434B5C;\n",
              "      box-shadow: 0px 1px 3px 1px rgba(0, 0, 0, 0.15);\n",
              "      filter: drop-shadow(0px 1px 2px rgba(0, 0, 0, 0.3));\n",
              "      fill: #FFFFFF;\n",
              "    }\n",
              "  </style>\n",
              "\n",
              "      <script>\n",
              "        const buttonEl =\n",
              "          document.querySelector('#df-432bf4b3-30f0-49cd-9239-d91a04407fec button.colab-df-convert');\n",
              "        buttonEl.style.display =\n",
              "          google.colab.kernel.accessAllowed ? 'block' : 'none';\n",
              "\n",
              "        async function convertToInteractive(key) {\n",
              "          const element = document.querySelector('#df-432bf4b3-30f0-49cd-9239-d91a04407fec');\n",
              "          const dataTable =\n",
              "            await google.colab.kernel.invokeFunction('convertToInteractive',\n",
              "                                                     [key], {});\n",
              "          if (!dataTable) return;\n",
              "\n",
              "          const docLinkHtml = 'Like what you see? Visit the ' +\n",
              "            '<a target=\"_blank\" href=https://colab.research.google.com/notebooks/data_table.ipynb>data table notebook</a>'\n",
              "            + ' to learn more about interactive tables.';\n",
              "          element.innerHTML = '';\n",
              "          dataTable['output_type'] = 'display_data';\n",
              "          await google.colab.output.renderOutput(dataTable, element);\n",
              "          const docLink = document.createElement('div');\n",
              "          docLink.innerHTML = docLinkHtml;\n",
              "          element.appendChild(docLink);\n",
              "        }\n",
              "      </script>\n",
              "    </div>\n",
              "  </div>\n",
              "  "
            ]
          },
          "metadata": {},
          "execution_count": 8
        }
      ],
      "source": [
        "data_fillna_0.head()"
      ]
    },
    {
      "cell_type": "code",
      "execution_count": null,
      "metadata": {
        "id": "UV6Kh909itwT"
      },
      "outputs": [],
      "source": [
        "# # 타겟 변수의 형변환\n",
        "\n",
        "# mapping_dict = {'Class_1' : 1,\n",
        "#                 'Class_2' : 2,\n",
        "#                 'Class_3' : 3,\n",
        "#                 'Class_4' : 4,\n",
        "#                 'Class_5' : 5,\n",
        "#                 'Class_6' : 6,\n",
        "#                 'Class_7' : 7,\n",
        "#                 'Class_8' : 8,\n",
        "#                 'Class_9' : 9,}\n",
        "# after_mapping_target = data['target'].apply(lambda x : mapping_dict[x])\n",
        "# after_mapping_target"
      ]
    },
    {
      "cell_type": "code",
      "execution_count": null,
      "metadata": {
        "colab": {
          "base_uri": "https://localhost:8080/"
        },
        "id": "jQjGqxFIiwVT",
        "outputId": "d44ebdd9-733d-4fff-b66c-c86049002fb8"
      },
      "outputs": [
        {
          "output_type": "stream",
          "name": "stdout",
          "text": [
            "(87313, 74) (21829, 74) (87313,) (21829,)\n"
          ]
        }
      ],
      "source": [
        "# features/target, train/test dataset 분리\n",
        "\n",
        "feature_columns = list(data_fillna_0.columns.difference(['label']))\n",
        "X = data_fillna_0[feature_columns]\n",
        "y = data_fillna_0['label']\n",
        "\n",
        "train_x, test_x, train_y, test_y = train_test_split(X, y, test_size = 0.2, random_state = 42) # 학습데이터와 평가데이터의 비율을 8:2 로 분할| \n",
        "print(train_x.shape, test_x.shape, train_y.shape, test_y.shape) # 데이터 개수 확인"
      ]
    },
    {
      "cell_type": "code",
      "execution_count": null,
      "metadata": {
        "colab": {
          "base_uri": "https://localhost:8080/"
        },
        "id": "d_kgiYetnMFk",
        "outputId": "53082f9e-9f23-46c2-8741-de3ad47f3ccb"
      },
      "outputs": [
        {
          "output_type": "stream",
          "name": "stdout",
          "text": [
            "?곸뾽?댁씡竊덉넀?ㅿ펹_bin            0\n",
            "?댁씡?됱뿬湲?寃곗넀湲덌펹_bin          0\n",
            "ESTB_DATE_bin               0\n",
            "ICR_bin                     0\n",
            "LIST_DATE_bin               0\n",
            "                           ..\n",
            "totalCapitalTurnover_bin    0\n",
            "totalCapital_bin            0\n",
            "totalCapitalbpro_bin        0\n",
            "totalDept_bin               0\n",
            "totalcost/finCharge_bin     0\n",
            "Length: 74, dtype: int64\n"
          ]
        }
      ],
      "source": [
        "print(train_x.isnull().sum())"
      ]
    },
    {
      "cell_type": "code",
      "execution_count": null,
      "metadata": {
        "colab": {
          "base_uri": "https://localhost:8080/"
        },
        "id": "1vUABuVYnZpa",
        "outputId": "9b1553ab-4d47-4e2f-9fd8-7333d0c8546a"
      },
      "outputs": [
        {
          "output_type": "stream",
          "name": "stdout",
          "text": [
            "?곸뾽?댁씡竊덉넀?ㅿ펹_bin            0\n",
            "?댁씡?됱뿬湲?寃곗넀湲덌펹_bin          0\n",
            "ESTB_DATE_bin               0\n",
            "ICR_bin                     0\n",
            "LIST_DATE_bin               0\n",
            "                           ..\n",
            "totalCapitalTurnover_bin    0\n",
            "totalCapital_bin            0\n",
            "totalCapitalbpro_bin        0\n",
            "totalDept_bin               0\n",
            "totalcost/finCharge_bin     0\n",
            "Length: 74, dtype: int64\n"
          ]
        }
      ],
      "source": [
        "print(test_x.isnull().sum())"
      ]
    },
    {
      "cell_type": "code",
      "source": [
        "#기본적인 randomforest모형\n",
        "\n",
        "from sklearn.ensemble import RandomForestClassifier\n",
        "from sklearn.metrics import accuracy_score # 정확도 함수\n",
        "\n",
        "clf = RandomForestClassifier(n_estimators=20, max_depth=5,random_state=0)\n",
        "clf.fit(train_x,train_y)\n",
        "\n",
        "predict1 = clf.predict(test_x)\n",
        "print(accuracy_score(test_y,predict1))"
      ],
      "metadata": {
        "colab": {
          "base_uri": "https://localhost:8080/"
        },
        "id": "fcuRCnwKfn_Q",
        "outputId": "952dc9d8-3dab-4163-ba2f-291d3127de32"
      },
      "execution_count": null,
      "outputs": [
        {
          "output_type": "stream",
          "name": "stdout",
          "text": [
            "0.9475926519767282\n"
          ]
        }
      ]
    },
    {
      "cell_type": "code",
      "source": [
        "# AUC score\n",
        "\n",
        "from sklearn.metrics import roc_auc_score\n",
        "\n",
        "predict2 = clf.predict(test_x)\n",
        "print('Random Forest AUC Score :', roc_auc_score(test_y,predict1))"
      ],
      "metadata": {
        "colab": {
          "base_uri": "https://localhost:8080/"
        },
        "id": "rm3fOvxlHtM5",
        "outputId": "be833395-01c6-40b5-b3c2-f51ec7986fdd"
      },
      "execution_count": null,
      "outputs": [
        {
          "output_type": "stream",
          "name": "stdout",
          "text": [
            "Random Forest AUC Score : 0.7640242741335849\n"
          ]
        }
      ]
    },
    {
      "cell_type": "code",
      "execution_count": null,
      "metadata": {
        "id": "ToGcsAwDiyc0",
        "colab": {
          "base_uri": "https://localhost:8080/"
        },
        "outputId": "626465f1-652e-46dc-8210-a81bcc398b16"
      },
      "outputs": [
        {
          "output_type": "stream",
          "name": "stdout",
          "text": [
            "0.9592285491776994\n"
          ]
        }
      ],
      "source": [
        "# sample 100개, tree depth - 20\n",
        "\n",
        "clf = RandomForestClassifier(n_estimators=100, max_depth=20,random_state=0)\n",
        "clf.fit(train_x,train_y)\n",
        "\n",
        "predict2 = clf.predict(test_x)\n",
        "print(accuracy_score(test_y,predict2))"
      ]
    },
    {
      "cell_type": "code",
      "source": [
        "# AUC score\n",
        "\n",
        "from sklearn.metrics import roc_auc_score\n",
        "\n",
        "predict2 = clf.predict(test_x)\n",
        "print('Random Forest AUC Score :', roc_auc_score(test_y,predict2))"
      ],
      "metadata": {
        "colab": {
          "base_uri": "https://localhost:8080/"
        },
        "id": "p8-GVKEJHfB2",
        "outputId": "d2711c1f-af90-4aaa-9591-04e326bc89b4"
      },
      "execution_count": null,
      "outputs": [
        {
          "output_type": "stream",
          "name": "stdout",
          "text": [
            "Random Forest AUC Score : 0.8204309631047522\n"
          ]
        }
      ]
    },
    {
      "cell_type": "code",
      "execution_count": null,
      "metadata": {
        "colab": {
          "base_uri": "https://localhost:8080/"
        },
        "id": "oUBZ_tgVi0c0",
        "outputId": "2cce5f09-7e96-48ff-ace7-77a8f19b53d1"
      },
      "outputs": [
        {
          "output_type": "stream",
          "name": "stdout",
          "text": [
            "0.959778276604517\n"
          ]
        }
      ],
      "source": [
        "# sample 300개, tree depth - 20\n",
        "\n",
        "clf = RandomForestClassifier(n_estimators=300, max_depth=20,random_state=0)\n",
        "clf.fit(train_x,train_y)\n",
        "\n",
        "predict2 = clf.predict(test_x)\n",
        "print(accuracy_score(test_y,predict2))"
      ]
    },
    {
      "cell_type": "code",
      "source": [
        "# AUC score\n",
        "\n",
        "from sklearn.metrics import roc_auc_score\n",
        "\n",
        "predict2 = clf.predict(test_x)\n",
        "print('Random Forest AUC Score :', roc_auc_score(test_y,predict2))"
      ],
      "metadata": {
        "colab": {
          "base_uri": "https://localhost:8080/"
        },
        "id": "IJO1fH4nHWH5",
        "outputId": "38407e4f-48f0-411e-f4e4-c7002bbe8640"
      },
      "execution_count": null,
      "outputs": [
        {
          "output_type": "stream",
          "name": "stdout",
          "text": [
            "Random Forest AUC Score : 0.7640242741335849\n"
          ]
        }
      ]
    },
    {
      "cell_type": "code",
      "execution_count": null,
      "metadata": {
        "id": "gkF5v-vTi3FL",
        "colab": {
          "base_uri": "https://localhost:8080/"
        },
        "outputId": "9d20771f-8d0d-43e8-8a23-c2efa616d15f"
      },
      "outputs": [
        {
          "output_type": "stream",
          "name": "stdout",
          "text": [
            "0.9594576022722067\n"
          ]
        }
      ],
      "source": [
        "# # sample 100개, tree depth - 100(max)\n",
        "\n",
        "clf = RandomForestClassifier(n_estimators=100, max_depth=100,random_state=0)\n",
        "clf.fit(train_x,train_y)\n",
        "\n",
        "predict2 = clf.predict(test_x)\n",
        "print(accuracy_score(test_y,predict2))"
      ]
    },
    {
      "cell_type": "code",
      "source": [
        "# AUC score\n",
        "\n",
        "from sklearn.metrics import roc_auc_score\n",
        "\n",
        "predict2 = clf.predict(test_x)\n",
        "print('Random Forest AUC Score :', roc_auc_score(test_y,predict2))"
      ],
      "metadata": {
        "colab": {
          "base_uri": "https://localhost:8080/"
        },
        "id": "LnP1-4zdH0Nh",
        "outputId": "cdca4b87-d9a9-4265-eb3a-a2c319b65051"
      },
      "execution_count": null,
      "outputs": [
        {
          "output_type": "stream",
          "name": "stdout",
          "text": [
            "Random Forest AUC Score : 0.8237888015533199\n"
          ]
        }
      ]
    },
    {
      "cell_type": "code",
      "execution_count": null,
      "metadata": {
        "id": "400QY6WfuWwj",
        "colab": {
          "base_uri": "https://localhost:8080/",
          "height": 1000
        },
        "outputId": "cf48ade1-f1b6-49a2-eef9-f22cf6b8e31b"
      },
      "outputs": [
        {
          "output_type": "stream",
          "name": "stderr",
          "text": [
            "/usr/local/lib/python3.7/dist-packages/matplotlib/backends/backend_agg.py:214: RuntimeWarning: Glyph 44280 missing from current font.\n",
            "  font.set_text(s, 0.0, flags=flags)\n",
            "/usr/local/lib/python3.7/dist-packages/matplotlib/backends/backend_agg.py:214: RuntimeWarning: Glyph 49085 missing from current font.\n",
            "  font.set_text(s, 0.0, flags=flags)\n",
            "/usr/local/lib/python3.7/dist-packages/matplotlib/backends/backend_agg.py:214: RuntimeWarning: Glyph 45825 missing from current font.\n",
            "  font.set_text(s, 0.0, flags=flags)\n",
            "/usr/local/lib/python3.7/dist-packages/matplotlib/backends/backend_agg.py:214: RuntimeWarning: Glyph 50465 missing from current font.\n",
            "  font.set_text(s, 0.0, flags=flags)\n",
            "/usr/local/lib/python3.7/dist-packages/matplotlib/backends/backend_agg.py:214: RuntimeWarning: Glyph 31434 missing from current font.\n",
            "  font.set_text(s, 0.0, flags=flags)\n",
            "/usr/local/lib/python3.7/dist-packages/matplotlib/backends/backend_agg.py:214: RuntimeWarning: Glyph 45897 missing from current font.\n",
            "  font.set_text(s, 0.0, flags=flags)\n",
            "/usr/local/lib/python3.7/dist-packages/matplotlib/backends/backend_agg.py:214: RuntimeWarning: Glyph 45312 missing from current font.\n",
            "  font.set_text(s, 0.0, flags=flags)\n",
            "/usr/local/lib/python3.7/dist-packages/matplotlib/backends/backend_agg.py:214: RuntimeWarning: Glyph 12671 missing from current font.\n",
            "  font.set_text(s, 0.0, flags=flags)\n",
            "/usr/local/lib/python3.7/dist-packages/matplotlib/backends/backend_agg.py:214: RuntimeWarning: Glyph 54201 missing from current font.\n",
            "  font.set_text(s, 0.0, flags=flags)\n",
            "/usr/local/lib/python3.7/dist-packages/matplotlib/backends/backend_agg.py:214: RuntimeWarning: Glyph 46129 missing from current font.\n",
            "  font.set_text(s, 0.0, flags=flags)\n",
            "/usr/local/lib/python3.7/dist-packages/matplotlib/backends/backend_agg.py:214: RuntimeWarning: Glyph 49132 missing from current font.\n",
            "  font.set_text(s, 0.0, flags=flags)\n",
            "/usr/local/lib/python3.7/dist-packages/matplotlib/backends/backend_agg.py:214: RuntimeWarning: Glyph 28274 missing from current font.\n",
            "  font.set_text(s, 0.0, flags=flags)\n",
            "/usr/local/lib/python3.7/dist-packages/matplotlib/backends/backend_agg.py:214: RuntimeWarning: Glyph 23491 missing from current font.\n",
            "  font.set_text(s, 0.0, flags=flags)\n",
            "/usr/local/lib/python3.7/dist-packages/matplotlib/backends/backend_agg.py:214: RuntimeWarning: Glyph 44247 missing from current font.\n",
            "  font.set_text(s, 0.0, flags=flags)\n",
            "/usr/local/lib/python3.7/dist-packages/matplotlib/backends/backend_agg.py:214: RuntimeWarning: Glyph 45900 missing from current font.\n",
            "  font.set_text(s, 0.0, flags=flags)\n",
            "/usr/local/lib/python3.7/dist-packages/matplotlib/backends/backend_agg.py:183: RuntimeWarning: Glyph 44280 missing from current font.\n",
            "  font.set_text(s, 0, flags=flags)\n",
            "/usr/local/lib/python3.7/dist-packages/matplotlib/backends/backend_agg.py:183: RuntimeWarning: Glyph 49085 missing from current font.\n",
            "  font.set_text(s, 0, flags=flags)\n",
            "/usr/local/lib/python3.7/dist-packages/matplotlib/backends/backend_agg.py:183: RuntimeWarning: Glyph 45825 missing from current font.\n",
            "  font.set_text(s, 0, flags=flags)\n",
            "/usr/local/lib/python3.7/dist-packages/matplotlib/backends/backend_agg.py:183: RuntimeWarning: Glyph 50465 missing from current font.\n",
            "  font.set_text(s, 0, flags=flags)\n",
            "/usr/local/lib/python3.7/dist-packages/matplotlib/backends/backend_agg.py:183: RuntimeWarning: Glyph 31434 missing from current font.\n",
            "  font.set_text(s, 0, flags=flags)\n",
            "/usr/local/lib/python3.7/dist-packages/matplotlib/backends/backend_agg.py:183: RuntimeWarning: Glyph 45897 missing from current font.\n",
            "  font.set_text(s, 0, flags=flags)\n",
            "/usr/local/lib/python3.7/dist-packages/matplotlib/backends/backend_agg.py:183: RuntimeWarning: Glyph 45312 missing from current font.\n",
            "  font.set_text(s, 0, flags=flags)\n",
            "/usr/local/lib/python3.7/dist-packages/matplotlib/backends/backend_agg.py:183: RuntimeWarning: Glyph 12671 missing from current font.\n",
            "  font.set_text(s, 0, flags=flags)\n",
            "/usr/local/lib/python3.7/dist-packages/matplotlib/backends/backend_agg.py:183: RuntimeWarning: Glyph 54201 missing from current font.\n",
            "  font.set_text(s, 0, flags=flags)\n",
            "/usr/local/lib/python3.7/dist-packages/matplotlib/backends/backend_agg.py:183: RuntimeWarning: Glyph 46129 missing from current font.\n",
            "  font.set_text(s, 0, flags=flags)\n",
            "/usr/local/lib/python3.7/dist-packages/matplotlib/backends/backend_agg.py:183: RuntimeWarning: Glyph 49132 missing from current font.\n",
            "  font.set_text(s, 0, flags=flags)\n",
            "/usr/local/lib/python3.7/dist-packages/matplotlib/backends/backend_agg.py:183: RuntimeWarning: Glyph 28274 missing from current font.\n",
            "  font.set_text(s, 0, flags=flags)\n",
            "/usr/local/lib/python3.7/dist-packages/matplotlib/backends/backend_agg.py:183: RuntimeWarning: Glyph 23491 missing from current font.\n",
            "  font.set_text(s, 0, flags=flags)\n",
            "/usr/local/lib/python3.7/dist-packages/matplotlib/backends/backend_agg.py:183: RuntimeWarning: Glyph 44247 missing from current font.\n",
            "  font.set_text(s, 0, flags=flags)\n",
            "/usr/local/lib/python3.7/dist-packages/matplotlib/backends/backend_agg.py:183: RuntimeWarning: Glyph 45900 missing from current font.\n",
            "  font.set_text(s, 0, flags=flags)\n"
          ]
        },
        {
          "output_type": "display_data",
          "data": {
            "text/plain": [
              "<Figure size 576x432 with 1 Axes>"
            ],
            "image/png": "[encoded data removed]"
          },
          "metadata": {
            "needs_background": "light"
          }
        }
      ],
      "source": [
        "ft_importance_values = clf.feature_importances_\n",
        "ft_series = pd.Series(ft_importance_values, index = train_x.columns)\n",
        "ft_top30 = ft_series.sort_values(ascending=False)[:30]\n",
        "\n",
        "# 시각화\n",
        "plt.figure(figsize=(8,6))\n",
        "plt.title('Feature Importance Top 30')\n",
        "sns.barplot(x=ft_top30, y=ft_top30.index)\n",
        "plt.show()"
      ]
    },
    {
      "cell_type": "code",
      "execution_count": null,
      "metadata": {
        "id": "dLdJXVvczn1k"
      },
      "outputs": [],
      "source": [
        "clf = RandomForestClassifier(n_estimators=300, max_depth=20,random_state=0)\n",
        "selector = RFE(clf, n_features_to_select=18, step=4)\n",
        "selector = selector.fit(X, y)"
      ]
    },
    {
      "cell_type": "code",
      "execution_count": null,
      "metadata": {
        "id": "-otPRTrNzu7n",
        "colab": {
          "base_uri": "https://localhost:8080/"
        },
        "outputId": "2b870fe1-25d4-4c58-8e56-0702238517fd"
      },
      "outputs": [
        {
          "output_type": "execute_result",
          "data": {
            "text/plain": [
              "array([ True, False,  True, False, False, False, False, False, False,\n",
              "       False,  True, False, False, False, False,  True, False,  True,\n",
              "       False, False, False,  True, False, False, False, False, False,\n",
              "       False, False, False, False, False, False,  True, False,  True,\n",
              "       False, False, False, False, False, False, False, False, False,\n",
              "       False, False, False,  True,  True,  True,  True, False, False,\n",
              "       False, False,  True, False, False, False,  True, False, False,\n",
              "       False, False,  True,  True, False, False, False,  True, False,\n",
              "        True, False])"
            ]
          },
          "metadata": {},
          "execution_count": 30
        }
      ],
      "source": [
        "selector.support_"
      ]
    },
    {
      "cell_type": "code",
      "execution_count": null,
      "metadata": {
        "id": "qSwrWBOf3Zep"
      },
      "outputs": [],
      "source": [
        "clf = RandomForestClassifier(n_estimators=300, max_depth=20,random_state=0)\n",
        "min_features_to_select = 11\n",
        "step = 4\n",
        "selector = RFECV(clf, step=step, cv=5, min_features_to_select=min_features_to_select)\n",
        "selector = selector.fit(X, y)"
      ]
    },
    {
      "cell_type": "code",
      "execution_count": null,
      "metadata": {
        "id": "GUjnwLUq4HdU",
        "colab": {
          "base_uri": "https://localhost:8080/"
        },
        "outputId": "3346d851-d4b1-4800-9acb-d13ee9edd44c"
      },
      "outputs": [
        {
          "output_type": "execute_result",
          "data": {
            "text/plain": [
              "74"
            ]
          },
          "metadata": {},
          "execution_count": 32
        }
      ],
      "source": [
        "selector.support_.sum()"
      ]
    },
    {
      "cell_type": "code",
      "execution_count": null,
      "metadata": {
        "id": "gndau20z-Kr1",
        "colab": {
          "base_uri": "https://localhost:8080/",
          "height": 426
        },
        "outputId": "30ecbfbf-d216-4402-ef8b-214bd11fec7b"
      },
      "outputs": [
        {
          "output_type": "stream",
          "name": "stderr",
          "text": [
            "/usr/local/lib/python3.7/dist-packages/sklearn/utils/deprecation.py:103: FutureWarning: The `grid_scores_` attribute is deprecated in version 1.0 in favor of `cv_results_` and will be removed in version 1.2.\n",
            "  warnings.warn(msg, category=FutureWarning)\n"
          ]
        },
        {
          "output_type": "execute_result",
          "data": {
            "text/plain": [
              "[<matplotlib.lines.Line2D at 0x7febac28f050>,\n",
              " <matplotlib.lines.Line2D at 0x7febac28f590>,\n",
              " <matplotlib.lines.Line2D at 0x7febac28f110>,\n",
              " <matplotlib.lines.Line2D at 0x7febac28fa50>,\n",
              " <matplotlib.lines.Line2D at 0x7febac28f610>]"
            ]
          },
          "metadata": {},
          "execution_count": 33
        },
        {
          "output_type": "display_data",
          "data": {
            "text/plain": [
              "<Figure size 432x288 with 1 Axes>"
            ],
            "image/png": "[encoded data removed]"
          },
          "metadata": {
            "needs_background": "light"
          }
        }
      ],
      "source": [
        "plt.figure()\n",
        "plt.xlabel(\"Number of features selected\")\n",
        "plt.ylabel(\"Cross validation score (accuracy)\")\n",
        "plt.plot(\n",
        "    range(min_features_to_select, len(selector.grid_scores_)*step + min_features_to_select, step),\n",
        "    selector.grid_scores_,\n",
        ")"
      ]
    },
    {
      "cell_type": "code",
      "execution_count": null,
      "metadata": {
        "id": "Zd-prmtpHEEY"
      },
      "outputs": [],
      "source": []
    }
  ],
  "metadata": {
    "colab": {
      "provenance": []
    },
    "kernelspec": {
      "display_name": "Python 3",
      "name": "python3"
    },
    "language_info": {
      "name": "python"
    },
    "accelerator": "GPU",
    "gpuClass": "standard"
  },
  "nbformat": 4,
  "nbformat_minor": 0
}